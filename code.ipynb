{
  "cells": [
    {
      "cell_type": "markdown",
      "source": [
        "#Task 3: Language model using the text from a large collection of Science Fiction stories"
      ],
      "metadata": {
        "id": "L4bmAtZKqp9A"
      }
    },
    {
      "cell_type": "code",
      "execution_count": 4,
      "metadata": {
        "id": "Rai8U6Qs9fSG"
      },
      "outputs": [],
      "source": [
        "#importing the necessary libraries\n",
        "from tensorflow.keras.callbacks import LambdaCallback\n",
        "from tensorflow.keras.models import Sequential, load_model\n",
        "from tensorflow.keras.layers import Dense\n",
        "from tensorflow.keras.layers import LSTM, Embedding, GRU, Dropout\n",
        "from tensorflow.keras.optimizers import RMSprop\n",
        "from tensorflow.keras.utils import get_file, to_categorical\n",
        "from tensorflow.keras.preprocessing.text import Tokenizer\n",
        "from tensorflow.keras.preprocessing.sequence import pad_sequences\n",
        "from tensorflow.keras.callbacks import LearningRateScheduler, ModelCheckpoint, EarlyStopping\n",
        "import matplotlib.pyplot as plt\n",
        "import numpy as np\n",
        "import random\n",
        "import sys\n",
        "import io\n",
        "import requests\n",
        "import re\n",
        "import string\n",
        "from google.colab import drive\n",
        "import zipfile"
      ]
    },
    {
      "cell_type": "code",
      "source": [
        "#mounting google drive\n",
        "drive.mount('/content/drive', force_remount=True) "
      ],
      "metadata": {
        "colab": {
          "base_uri": "https://localhost:8080/"
        },
        "id": "qr18Sx5wQMh1",
        "outputId": "ca47147f-b539-4a48-84ec-1156124853e4"
      },
      "execution_count": 5,
      "outputs": [
        {
          "output_type": "stream",
          "name": "stdout",
          "text": [
            "Mounted at /content/drive\n"
          ]
        }
      ]
    },
    {
      "cell_type": "markdown",
      "source": [
        "Data preparation"
      ],
      "metadata": {
        "id": "FyMWJXOyrJLi"
      }
    },
    {
      "cell_type": "code",
      "source": [
        "#loading the data\n",
        "zip_file = \"/content/drive/My Drive/Deep Learning/SciFi.zip\"\n",
        "# extract location\n",
        "extract_path = \"/content/DeepLearning/Scifi/\"\n",
        "# create a ZipFile object\n",
        "with zipfile.ZipFile(zip_file, 'r') as zip_obj:\n",
        "  # extract all the contents of the zip file to the specified directory \n",
        "  zip_obj.extractall(extract_path)"
      ],
      "metadata": {
        "id": "9LatO5fWQyQP"
      },
      "execution_count": 6,
      "outputs": []
    },
    {
      "cell_type": "code",
      "execution_count": 7,
      "metadata": {
        "id": "US-kAsOT9unA"
      },
      "outputs": [],
      "source": [
        "#open the extracted zip file\n",
        "file=open('/content/DeepLearning/Scifi/internet_archive_scifi_v3.txt','r',encoding='utf8').read()"
      ]
    },
    {
      "cell_type": "code",
      "execution_count": 8,
      "metadata": {
        "colab": {
          "base_uri": "https://localhost:8080/"
        },
        "id": "qPr0zkdg9xio",
        "outputId": "dc8d1714-db51-476d-c5cc-3cb565521e94"
      },
      "outputs": [
        {
          "output_type": "execute_result",
          "data": {
            "text/plain": [
              "149326361"
            ]
          },
          "metadata": {},
          "execution_count": 8
        }
      ],
      "source": [
        "len(file)"
      ]
    },
    {
      "cell_type": "code",
      "execution_count": 9,
      "metadata": {
        "colab": {
          "base_uri": "https://localhost:8080/"
        },
        "id": "VPTT9cm99zWB",
        "outputId": "78b4e1bf-83ae-4da9-d296-617e6079bea2"
      },
      "outputs": [
        {
          "output_type": "stream",
          "name": "stdout",
          "text": [
            "MARCH # All Stories New and Complete Publisher Editor IF is published bi-monthly by Quinn Publishing Company, Inc., Kingston, New York. Volume #, No. #. Copyright # by Quinn Publishing Company, Inc. Application for Entry' as Second Class matter at Post Office, Buffalo, New York, pending. Subscription # for # issues in U.S. and Possessions: Canada # for # issues; elsewhere #. Aiiow four weeks for change of address. All stories appearing in this magazine are fiction. Any similarity to actual perso\n"
          ]
        }
      ],
      "source": [
        "print(file[:500])"
      ]
    },
    {
      "cell_type": "markdown",
      "source": [
        "Data Preprocessing"
      ],
      "metadata": {
        "id": "Ofj-WU-crMAW"
      }
    },
    {
      "cell_type": "code",
      "execution_count": 10,
      "metadata": {
        "id": "RgXPyAPD9zya"
      },
      "outputs": [],
      "source": [
        "#Data cleaning - Splitting the text, Removing the special characters and extra space\n",
        "def cleaned_text(text):\n",
        "  text = text.split(\" \")\n",
        "  text = re.sub(r'[^\\x00-\\x7f]', r'', str(text)) # removing special chars...\n",
        "  text = text.translate(str.maketrans('', '', string.punctuation)) # removing special chars...\n",
        "  text = re.sub('\\s+', ' ', str(text)) # removing extra spaces...\n",
        "  return text\n",
        "\n",
        "text = cleaned_text(file)"
      ]
    },
    {
      "cell_type": "code",
      "execution_count": 30,
      "metadata": {
        "id": "qNLuUR8i9-ZK",
        "colab": {
          "base_uri": "https://localhost:8080/"
        },
        "outputId": "0607a8fc-1684-427d-f66b-0dc15a305e0c"
      },
      "outputs": [
        {
          "output_type": "stream",
          "name": "stdout",
          "text": [
            "Example of cleaned text: MARCH All Stories New and Complete Publisher Editor IF is published bimonthly by Quinn Publishing Co\n",
            "Length of text: 142442755\n"
          ]
        }
      ],
      "source": [
        "#visualize cleaned text\n",
        "print(\"Example of cleaned text:\",text[0:100])\n",
        "print(\"Length of text:\", len(text))"
      ]
    },
    {
      "cell_type": "code",
      "execution_count": 27,
      "metadata": {
        "id": "ifuPZisH-Bda",
        "colab": {
          "base_uri": "https://localhost:8080/"
        },
        "outputId": "b988f299-6e30-4533-f9f1-486a0b08ad13"
      },
      "outputs": [
        {
          "output_type": "stream",
          "name": "stdout",
          "text": [
            "Length of text corpus: 26308635\n",
            "Length of unique words: 330125\n"
          ]
        }
      ],
      "source": [
        "#creating a corpus for the text and creating a list of unique words\n",
        "text_corpus = text.split(\" \")\n",
        "text_corpus = [x for x in text_corpus if x != \"\"]\n",
        "print(\"Length of text corpus:\",len(text_corpus))\n",
        "unique_vocab = list(set(text_corpus))\n",
        "print(\"Length of unique words:\",len(unique_vocab))"
      ]
    },
    {
      "cell_type": "code",
      "source": [
        "text_corpus[:20]"
      ],
      "metadata": {
        "colab": {
          "base_uri": "https://localhost:8080/"
        },
        "id": "kw35cgUS3aFS",
        "outputId": "6bc8bd8a-eaa9-4b67-ebcb-33f80e4cfab7"
      },
      "execution_count": 16,
      "outputs": [
        {
          "output_type": "execute_result",
          "data": {
            "text/plain": [
              "['MARCH',\n",
              " 'All',\n",
              " 'Stories',\n",
              " 'New',\n",
              " 'and',\n",
              " 'Complete',\n",
              " 'Publisher',\n",
              " 'Editor',\n",
              " 'IF',\n",
              " 'is',\n",
              " 'published',\n",
              " 'bimonthly',\n",
              " 'by',\n",
              " 'Quinn',\n",
              " 'Publishing',\n",
              " 'Company',\n",
              " 'Inc',\n",
              " 'Kingston',\n",
              " 'New',\n",
              " 'York']"
            ]
          },
          "metadata": {},
          "execution_count": 16
        }
      ]
    },
    {
      "cell_type": "code",
      "execution_count": 26,
      "metadata": {
        "id": "r1mkAg9y-IdK",
        "colab": {
          "base_uri": "https://localhost:8080/"
        },
        "outputId": "9140a21b-a100-45e8-d51c-f1e1f5ba3a6a"
      },
      "outputs": [
        {
          "output_type": "stream",
          "name": "stdout",
          "text": [
            "Length of all sentences:  499970\n"
          ]
        }
      ],
      "source": [
        "#Dividing the whole text into multiple strings each of length 31\n",
        "seq_length =  30\n",
        "step_size = 1 \n",
        "all_sentences = []\n",
        "for i in range(seq_length, len(text_corpus)):\n",
        "  # sliding window to divide the text\n",
        "  sentence = text_corpus[i - seq_length: i] \n",
        "  sentence = ' '.join(sentence)\n",
        "  all_sentences.append(sentence)\n",
        "\n",
        "all_sentences[:10]\n",
        "print(\"Length of all sentences: \", len(all_sentences))"
      ]
    },
    {
      "cell_type": "code",
      "execution_count": 24,
      "metadata": {
        "id": "NFO0TFMftA4R",
        "colab": {
          "base_uri": "https://localhost:8080/"
        },
        "outputId": "f665529a-7111-4d26-e3d7-4f54754c61d9"
      },
      "outputs": [
        {
          "output_type": "stream",
          "name": "stdout",
          "text": [
            "500000 words are selected from the end as the smaller dataset\n",
            "Example of model sent:  ['think He fell forward Or more he just crumpled to a heap on his Formula Hut floor and became right before her eyes a very sad pile of quite expensive', 'He fell forward Or more he just crumpled to a heap on his Formula Hut floor and became right before her eyes a very sad pile of quite expensive replacement', 'fell forward Or more he just crumpled to a heap on his Formula Hut floor and became right before her eyes a very sad pile of quite expensive replacement metal', 'forward Or more he just crumpled to a heap on his Formula Hut floor and became right before her eyes a very sad pile of quite expensive replacement metal and', 'Or more he just crumpled to a heap on his Formula Hut floor and became right before her eyes a very sad pile of quite expensive replacement metal and fleshstrip', 'more he just crumpled to a heap on his Formula Hut floor and became right before her eyes a very sad pile of quite expensive replacement metal and fleshstrip in', 'he just crumpled to a heap on his Formula Hut floor and became right before her eyes a very sad pile of quite expensive replacement metal and fleshstrip in a', 'just crumpled to a heap on his Formula Hut floor and became right before her eyes a very sad pile of quite expensive replacement metal and fleshstrip in a swoon', 'crumpled to a heap on his Formula Hut floor and became right before her eyes a very sad pile of quite expensive replacement metal and fleshstrip in a swoon Daddys', 'to a heap on his Formula Hut floor and became right before her eyes a very sad pile of quite expensive replacement metal and fleshstrip in a swoon Daddys sick', 'a heap on his Formula Hut floor and became right before her eyes a very sad pile of quite expensive replacement metal and fleshstrip in a swoon Daddys sick she', 'heap on his Formula Hut floor and became right before her eyes a very sad pile of quite expensive replacement metal and fleshstrip in a swoon Daddys sick she said', 'on his Formula Hut floor and became right before her eyes a very sad pile of quite expensive replacement metal and fleshstrip in a swoon Daddys sick she said mumbling', 'his Formula Hut floor and became right before her eyes a very sad pile of quite expensive replacement metal and fleshstrip in a swoon Daddys sick she said mumbling worriedly', 'Formula Hut floor and became right before her eyes a very sad pile of quite expensive replacement metal and fleshstrip in a swoon Daddys sick she said mumbling worriedly to', 'Hut floor and became right before her eyes a very sad pile of quite expensive replacement metal and fleshstrip in a swoon Daddys sick she said mumbling worriedly to herself', 'floor and became right before her eyes a very sad pile of quite expensive replacement metal and fleshstrip in a swoon Daddys sick she said mumbling worriedly to herself and', 'and became right before her eyes a very sad pile of quite expensive replacement metal and fleshstrip in a swoon Daddys sick she said mumbling worriedly to herself and the', 'became right before her eyes a very sad pile of quite expensive replacement metal and fleshstrip in a swoon Daddys sick she said mumbling worriedly to herself and the whirring', 'right before her eyes a very sad pile of quite expensive replacement metal and fleshstrip in a swoon Daddys sick she said mumbling worriedly to herself and the whirring emptiness']\n",
            "Length of unique words:  316462\n",
            "Example of of unique words:  ['pb hb The First Kingdom Katz pb The Tritonian Ring deCamp hb More Than Human Sturgeon pb Strange Wine Ellison hb Illustrated Roger Zelazny pb hb Horns ofEljIand Vess pb', 'all right dear 25 spun her around You just bef your boots Im all right Im feeling swell Youve given us the answer we needed You know right where the', 'lifeforms 12 entirely different from the foppish monsters Skkiru had somehow expected to represent the cultural ruling race Of course he had frequently seen pictures of them but everyone knew', 'on the double She met him at the door Good man he was trotting over halfdressed but he had the case with him Open it up she snarled Theyre arming', 'Burden by Anderson Dickson Apr The Return of Conan by de Camp Nyberg June Lost Continents by de Camp Reprieve From Paradise by Elliott Address Centauri by Wallace Against the', 'Because they have a Farside base She shook her head ruefully Folks she said I was going to make a real magnanimous announcement about turning the reins over to civilian', 'I began to shake as if I were is old as Id pretended to be on the stage Shes going to pull me back If I dont bring her the', 'get out through my constricted glottis Ive been doing all this running arid ducking and hiding for nothing He shrugged sympathetically Everyone in the city was instructed to help you', 'in sight The streets of the shopping center were more or less deserted There was no sign of a restaurant I was so empty that I felt dizzy as I', 'its cold enough for me Can a metamorphosis be this complete Several days ago a stranger slipped on the splashed edge of crashed into the water When I helped haul']\n"
          ]
        }
      ],
      "source": [
        "# Data selected and unique vocabulary in the data\n",
        "model_sent  = all_sentences[25808605:]\n",
        "print(len(model_sent), \"words are selected from the end as the smaller dataset\")\n",
        "print(\"Example of model sent: \", model_sent[:20])\n",
        "unique_vocab = list(set(model_sent))\n",
        "print(\"Length of unique words: \", len(unique_vocab))\n",
        "print(\"Example of of unique words: \", unique_vocab[0:10])"
      ]
    },
    {
      "cell_type": "code",
      "execution_count": 25,
      "metadata": {
        "id": "0xkqr3fo-gfd"
      },
      "outputs": [],
      "source": [
        "# tokenizing the words and converting to numerical values\n",
        "tokenizer = Tokenizer(num_words= 10000)\n",
        "tokenizer.fit_on_texts(model_sent)\n",
        "seq = tokenizer.texts_to_sequences(model_sent)"
      ]
    },
    {
      "cell_type": "code",
      "execution_count": 32,
      "metadata": {
        "id": "zrElZA8LmqNV"
      },
      "outputs": [],
      "source": [
        "# Pad sequences to a fixed length of 30 with 'pre'\n",
        "max_length = 30\n",
        "padded_sequences = pad_sequences(seq, maxlen=max_length, padding='pre', truncating='pre')"
      ]
    },
    {
      "cell_type": "code",
      "execution_count": 33,
      "metadata": {
        "id": "Z19CsqyTpXkT"
      },
      "outputs": [],
      "source": [
        "data = np.vstack(padded_sequences)"
      ]
    },
    {
      "cell_type": "code",
      "execution_count": 34,
      "metadata": {
        "id": "auU8pRbu-gpN"
      },
      "outputs": [],
      "source": [
        "# selecting 30 columns of each rows as features and 31st as target variable\n",
        "X = data[:, :-1]\n",
        "y = data[:, -1]"
      ]
    },
    {
      "cell_type": "code",
      "execution_count": 35,
      "metadata": {
        "colab": {
          "base_uri": "https://localhost:8080/"
        },
        "id": "2pqf0fh9-grd",
        "outputId": "7806be68-48fe-4718-a490-45c901646692"
      },
      "outputs": [
        {
          "output_type": "execute_result",
          "data": {
            "text/plain": [
              "21544"
            ]
          },
          "metadata": {},
          "execution_count": 35
        }
      ],
      "source": [
        "len(tokenizer.word_index)"
      ]
    },
    {
      "cell_type": "code",
      "execution_count": null,
      "metadata": {
        "colab": {
          "base_uri": "https://localhost:8080/"
        },
        "id": "SfxFtmzV6mdy",
        "outputId": "d38b7d57-aedf-4ac8-a19d-8abeae193bac"
      },
      "outputs": [
        {
          "output_type": "execute_result",
          "data": {
            "text/plain": [
              "29"
            ]
          },
          "metadata": {},
          "execution_count": 28
        }
      ],
      "source": [
        "X.shape[1]"
      ]
    },
    {
      "cell_type": "markdown",
      "source": [
        "Model Building"
      ],
      "metadata": {
        "id": "ebN8ZO9mth7n"
      }
    },
    {
      "cell_type": "code",
      "execution_count": 36,
      "metadata": {
        "id": "Gb7rvuOj-vt4",
        "colab": {
          "base_uri": "https://localhost:8080/"
        },
        "outputId": "17006784-07d1-4703-b276-c8de461eb991"
      },
      "outputs": [
        {
          "output_type": "stream",
          "name": "stdout",
          "text": [
            "Model: \"sequential_1\"\n",
            "_________________________________________________________________\n",
            " Layer (type)                Output Shape              Param #   \n",
            "=================================================================\n",
            " embedding (Embedding)       (None, 29, 50)            1077250   \n",
            "                                                                 \n",
            " lstm (LSTM)                 (None, 29, 64)            29440     \n",
            "                                                                 \n",
            " lstm_1 (LSTM)               (None, 64)                33024     \n",
            "                                                                 \n",
            " dense (Dense)               (None, 128)               8320      \n",
            "                                                                 \n",
            " dropout (Dropout)           (None, 128)               0         \n",
            "                                                                 \n",
            " dense_1 (Dense)             (None, 21545)             2779305   \n",
            "                                                                 \n",
            "=================================================================\n",
            "Total params: 3,927,339\n",
            "Trainable params: 3,927,339\n",
            "Non-trainable params: 0\n",
            "_________________________________________________________________\n"
          ]
        }
      ],
      "source": [
        "# Sequential LSTM model to predict next word...\n",
        "model = Sequential()\n",
        "\n",
        "# input_dim is the length of the vocab/dictionary that we created earlier, output_dim is 50, and input length is 31...\n",
        "model.add(Embedding(len(tokenizer.word_index) + 1, 50, input_length = X.shape[1])) \n",
        "\n",
        "# 64 LSTM units and return_sequences = True to pass it on to next LSTM layer. Dropout for regularization\n",
        "model.add(LSTM(64, return_sequences=True))\n",
        "\n",
        "\n",
        "model.add(LSTM(64))\n",
        "\n",
        "model.add(Dense(128, activation='relu'))\n",
        "model.add(Dropout(0.2))\n",
        "model.add(Dense(len(tokenizer.word_index) + 1, activation='softmax'))\n",
        "model.summary()"
      ]
    },
    {
      "cell_type": "code",
      "source": [
        "#define early stopping and Model checkpoints that are used as callbacks in the model\n",
        "es = EarlyStopping(monitor=\"loss\",patience=10,verbose=0,mode=\"auto\")\n",
        "checkpoint_filepath = \"/content/drive/MyDrive/Deep Learning/task3/checkpoints/task3_checkpoints.{epoch:007}\"\n",
        "model_checkpoint_callback = ModelCheckpoint(\n",
        "    filepath=checkpoint_filepath, monitor='loss', save_best_only=True, mode='min', verbose=1)\n"
      ],
      "metadata": {
        "id": "2HzuzM6wZwi0"
      },
      "execution_count": null,
      "outputs": []
    },
    {
      "cell_type": "code",
      "execution_count": null,
      "metadata": {
        "colab": {
          "base_uri": "https://localhost:8080/"
        },
        "id": "561SeDf5_Iaq",
        "outputId": "1dd1713a-e257-42d2-90fa-70fd81794d09"
      },
      "outputs": [
        {
          "output_type": "stream",
          "name": "stdout",
          "text": [
            "Epoch 1/100\n",
            "15625/15625 [==============================] - ETA: 0s - loss: 6.5371 - accuracy: 0.0819\n",
            "Epoch 1: loss improved from inf to 6.53713, saving model to /content/drive/MyDrive/Deep Learning/task3/checkpoints/task3_checkpoints.0000001\n"
          ]
        },
        {
          "output_type": "stream",
          "name": "stderr",
          "text": [
            "WARNING:absl:Found untraced functions such as lstm_cell_layer_call_fn, lstm_cell_layer_call_and_return_conditional_losses, lstm_cell_1_layer_call_fn, lstm_cell_1_layer_call_and_return_conditional_losses while saving (showing 4 of 4). These functions will not be directly callable after loading.\n"
          ]
        },
        {
          "output_type": "stream",
          "name": "stdout",
          "text": [
            "\b\b\b\b\b\b\b\b\b\b\b\b\b\b\b\b\b\b\b\b\b\b\b\b\b\b\b\b\b\b\b\b\b\b\b\b\b\b\b\b\b\b\b\b\b\b\b\b\b\b\b\b\b\b\b\b\b\b\b\b\b\b\b\b\b\b\b\b\b\b\b\b\b\b\b\b\b\b\b\b\b\b\b\b\b\b\b\b\r15625/15625 [==============================] - 160s 10ms/step - loss: 6.5371 - accuracy: 0.0819\n",
            "Epoch 2/100\n",
            "15622/15625 [============================>.] - ETA: 0s - loss: 6.0613 - accuracy: 0.1057\n",
            "Epoch 2: loss improved from 6.53713 to 6.06130, saving model to /content/drive/MyDrive/Deep Learning/task3/checkpoints/task3_checkpoints.0000002\n"
          ]
        },
        {
          "output_type": "stream",
          "name": "stderr",
          "text": [
            "WARNING:absl:Found untraced functions such as lstm_cell_layer_call_fn, lstm_cell_layer_call_and_return_conditional_losses, lstm_cell_1_layer_call_fn, lstm_cell_1_layer_call_and_return_conditional_losses while saving (showing 4 of 4). These functions will not be directly callable after loading.\n"
          ]
        },
        {
          "output_type": "stream",
          "name": "stdout",
          "text": [
            "\b\b\b\b\b\b\b\b\b\b\b\b\b\b\b\b\b\b\b\b\b\b\b\b\b\b\b\b\b\b\b\b\b\b\b\b\b\b\b\b\b\b\b\b\b\b\b\b\b\b\b\b\b\b\b\b\b\b\b\b\b\b\b\b\b\b\b\b\b\b\b\b\b\b\b\b\b\b\b\b\b\b\b\b\b\b\b\b\r15625/15625 [==============================] - 135s 9ms/step - loss: 6.0613 - accuracy: 0.1057\n",
            "Epoch 3/100\n",
            "15623/15625 [============================>.] - ETA: 0s - loss: 5.8554 - accuracy: 0.1155\n",
            "Epoch 3: loss improved from 6.06130 to 5.85536, saving model to /content/drive/MyDrive/Deep Learning/task3/checkpoints/task3_checkpoints.0000003\n"
          ]
        },
        {
          "output_type": "stream",
          "name": "stderr",
          "text": [
            "WARNING:absl:Found untraced functions such as lstm_cell_layer_call_fn, lstm_cell_layer_call_and_return_conditional_losses, lstm_cell_1_layer_call_fn, lstm_cell_1_layer_call_and_return_conditional_losses while saving (showing 4 of 4). These functions will not be directly callable after loading.\n"
          ]
        },
        {
          "output_type": "stream",
          "name": "stdout",
          "text": [
            "\b\b\b\b\b\b\b\b\b\b\b\b\b\b\b\b\b\b\b\b\b\b\b\b\b\b\b\b\b\b\b\b\b\b\b\b\b\b\b\b\b\b\b\b\b\b\b\b\b\b\b\b\b\b\b\b\b\b\b\b\b\b\b\b\b\b\b\b\b\b\b\b\b\b\b\b\b\b\b\b\b\b\b\b\b\b\b\b\r15625/15625 [==============================] - 134s 9ms/step - loss: 5.8554 - accuracy: 0.1155\n",
            "Epoch 4/100\n",
            "15625/15625 [==============================] - ETA: 0s - loss: 5.7063 - accuracy: 0.1226\n",
            "Epoch 4: loss improved from 5.85536 to 5.70628, saving model to /content/drive/MyDrive/Deep Learning/task3/checkpoints/task3_checkpoints.0000004\n"
          ]
        },
        {
          "output_type": "stream",
          "name": "stderr",
          "text": [
            "WARNING:absl:Found untraced functions such as lstm_cell_layer_call_fn, lstm_cell_layer_call_and_return_conditional_losses, lstm_cell_1_layer_call_fn, lstm_cell_1_layer_call_and_return_conditional_losses while saving (showing 4 of 4). These functions will not be directly callable after loading.\n"
          ]
        },
        {
          "output_type": "stream",
          "name": "stdout",
          "text": [
            "\b\b\b\b\b\b\b\b\b\b\b\b\b\b\b\b\b\b\b\b\b\b\b\b\b\b\b\b\b\b\b\b\b\b\b\b\b\b\b\b\b\b\b\b\b\b\b\b\b\b\b\b\b\b\b\b\b\b\b\b\b\b\b\b\b\b\b\b\b\b\b\b\b\b\b\b\b\b\b\b\b\b\b\b\b\b\b\b\r15625/15625 [==============================] - 135s 9ms/step - loss: 5.7063 - accuracy: 0.1226\n",
            "Epoch 5/100\n",
            "15625/15625 [==============================] - ETA: 0s - loss: 5.5919 - accuracy: 0.1284\n",
            "Epoch 5: loss improved from 5.70628 to 5.59190, saving model to /content/drive/MyDrive/Deep Learning/task3/checkpoints/task3_checkpoints.0000005\n"
          ]
        },
        {
          "output_type": "stream",
          "name": "stderr",
          "text": [
            "WARNING:absl:Found untraced functions such as lstm_cell_layer_call_fn, lstm_cell_layer_call_and_return_conditional_losses, lstm_cell_1_layer_call_fn, lstm_cell_1_layer_call_and_return_conditional_losses while saving (showing 4 of 4). These functions will not be directly callable after loading.\n"
          ]
        },
        {
          "output_type": "stream",
          "name": "stdout",
          "text": [
            "\b\b\b\b\b\b\b\b\b\b\b\b\b\b\b\b\b\b\b\b\b\b\b\b\b\b\b\b\b\b\b\b\b\b\b\b\b\b\b\b\b\b\b\b\b\b\b\b\b\b\b\b\b\b\b\b\b\b\b\b\b\b\b\b\b\b\b\b\b\b\b\b\b\b\b\b\b\b\b\b\b\b\b\b\b\b\b\b\r15625/15625 [==============================] - 133s 9ms/step - loss: 5.5919 - accuracy: 0.1284\n",
            "Epoch 6/100\n",
            "15624/15625 [============================>.] - ETA: 0s - loss: 5.4936 - accuracy: 0.1342\n",
            "Epoch 6: loss improved from 5.59190 to 5.49353, saving model to /content/drive/MyDrive/Deep Learning/task3/checkpoints/task3_checkpoints.0000006\n"
          ]
        },
        {
          "output_type": "stream",
          "name": "stderr",
          "text": [
            "WARNING:absl:Found untraced functions such as lstm_cell_layer_call_fn, lstm_cell_layer_call_and_return_conditional_losses, lstm_cell_1_layer_call_fn, lstm_cell_1_layer_call_and_return_conditional_losses while saving (showing 4 of 4). These functions will not be directly callable after loading.\n"
          ]
        },
        {
          "output_type": "stream",
          "name": "stdout",
          "text": [
            "\b\b\b\b\b\b\b\b\b\b\b\b\b\b\b\b\b\b\b\b\b\b\b\b\b\b\b\b\b\b\b\b\b\b\b\b\b\b\b\b\b\b\b\b\b\b\b\b\b\b\b\b\b\b\b\b\b\b\b\b\b\b\b\b\b\b\b\b\b\b\b\b\b\b\b\b\b\b\b\b\b\b\b\b\b\b\b\b\r15625/15625 [==============================] - 135s 9ms/step - loss: 5.4935 - accuracy: 0.1342\n",
            "Epoch 7/100\n",
            "15620/15625 [============================>.] - ETA: 0s - loss: 5.4041 - accuracy: 0.1392\n",
            "Epoch 7: loss improved from 5.49353 to 5.40412, saving model to /content/drive/MyDrive/Deep Learning/task3/checkpoints/task3_checkpoints.0000007\n"
          ]
        },
        {
          "output_type": "stream",
          "name": "stderr",
          "text": [
            "WARNING:absl:Found untraced functions such as lstm_cell_layer_call_fn, lstm_cell_layer_call_and_return_conditional_losses, lstm_cell_1_layer_call_fn, lstm_cell_1_layer_call_and_return_conditional_losses while saving (showing 4 of 4). These functions will not be directly callable after loading.\n"
          ]
        },
        {
          "output_type": "stream",
          "name": "stdout",
          "text": [
            "\b\b\b\b\b\b\b\b\b\b\b\b\b\b\b\b\b\b\b\b\b\b\b\b\b\b\b\b\b\b\b\b\b\b\b\b\b\b\b\b\b\b\b\b\b\b\b\b\b\b\b\b\b\b\b\b\b\b\b\b\b\b\b\b\b\b\b\b\b\b\b\b\b\b\b\b\b\b\b\b\b\b\b\b\b\b\b\b\r15625/15625 [==============================] - 134s 9ms/step - loss: 5.4041 - accuracy: 0.1392\n",
            "Epoch 8/100\n",
            "15623/15625 [============================>.] - ETA: 0s - loss: 5.3214 - accuracy: 0.1441\n",
            "Epoch 8: loss improved from 5.40412 to 5.32133, saving model to /content/drive/MyDrive/Deep Learning/task3/checkpoints/task3_checkpoints.0000008\n"
          ]
        },
        {
          "output_type": "stream",
          "name": "stderr",
          "text": [
            "WARNING:absl:Found untraced functions such as lstm_cell_layer_call_fn, lstm_cell_layer_call_and_return_conditional_losses, lstm_cell_1_layer_call_fn, lstm_cell_1_layer_call_and_return_conditional_losses while saving (showing 4 of 4). These functions will not be directly callable after loading.\n"
          ]
        },
        {
          "output_type": "stream",
          "name": "stdout",
          "text": [
            "\b\b\b\b\b\b\b\b\b\b\b\b\b\b\b\b\b\b\b\b\b\b\b\b\b\b\b\b\b\b\b\b\b\b\b\b\b\b\b\b\b\b\b\b\b\b\b\b\b\b\b\b\b\b\b\b\b\b\b\b\b\b\b\b\b\b\b\b\b\b\b\b\b\b\b\b\b\b\b\b\b\b\b\b\b\b\b\b\r15625/15625 [==============================] - 135s 9ms/step - loss: 5.3213 - accuracy: 0.1441\n",
            "Epoch 9/100\n",
            "15625/15625 [==============================] - ETA: 0s - loss: 5.2467 - accuracy: 0.1482\n",
            "Epoch 9: loss improved from 5.32133 to 5.24669, saving model to /content/drive/MyDrive/Deep Learning/task3/checkpoints/task3_checkpoints.0000009\n"
          ]
        },
        {
          "output_type": "stream",
          "name": "stderr",
          "text": [
            "WARNING:absl:Found untraced functions such as lstm_cell_layer_call_fn, lstm_cell_layer_call_and_return_conditional_losses, lstm_cell_1_layer_call_fn, lstm_cell_1_layer_call_and_return_conditional_losses while saving (showing 4 of 4). These functions will not be directly callable after loading.\n"
          ]
        },
        {
          "output_type": "stream",
          "name": "stdout",
          "text": [
            "\b\b\b\b\b\b\b\b\b\b\b\b\b\b\b\b\b\b\b\b\b\b\b\b\b\b\b\b\b\b\b\b\b\b\b\b\b\b\b\b\b\b\b\b\b\b\b\b\b\b\b\b\b\b\b\b\b\b\b\b\b\b\b\b\b\b\b\b\b\b\b\b\b\b\b\b\b\b\b\b\b\b\b\b\b\b\b\b\r15625/15625 [==============================] - 133s 9ms/step - loss: 5.2467 - accuracy: 0.1482\n",
            "Epoch 10/100\n",
            "15621/15625 [============================>.] - ETA: 0s - loss: 5.1768 - accuracy: 0.1519\n",
            "Epoch 10: loss improved from 5.24669 to 5.17678, saving model to /content/drive/MyDrive/Deep Learning/task3/checkpoints/task3_checkpoints.0000010\n"
          ]
        },
        {
          "output_type": "stream",
          "name": "stderr",
          "text": [
            "WARNING:absl:Found untraced functions such as lstm_cell_layer_call_fn, lstm_cell_layer_call_and_return_conditional_losses, lstm_cell_1_layer_call_fn, lstm_cell_1_layer_call_and_return_conditional_losses while saving (showing 4 of 4). These functions will not be directly callable after loading.\n"
          ]
        },
        {
          "output_type": "stream",
          "name": "stdout",
          "text": [
            "\b\b\b\b\b\b\b\b\b\b\b\b\b\b\b\b\b\b\b\b\b\b\b\b\b\b\b\b\b\b\b\b\b\b\b\b\b\b\b\b\b\b\b\b\b\b\b\b\b\b\b\b\b\b\b\b\b\b\b\b\b\b\b\b\b\b\b\b\b\b\b\b\b\b\b\b\b\b\b\b\b\b\b\b\b\b\b\b\r15625/15625 [==============================] - 136s 9ms/step - loss: 5.1768 - accuracy: 0.1519\n",
            "Epoch 11/100\n",
            "15621/15625 [============================>.] - ETA: 0s - loss: 5.1145 - accuracy: 0.1558\n",
            "Epoch 11: loss improved from 5.17678 to 5.11457, saving model to /content/drive/MyDrive/Deep Learning/task3/checkpoints/task3_checkpoints.0000011\n"
          ]
        },
        {
          "output_type": "stream",
          "name": "stderr",
          "text": [
            "WARNING:absl:Found untraced functions such as lstm_cell_layer_call_fn, lstm_cell_layer_call_and_return_conditional_losses, lstm_cell_1_layer_call_fn, lstm_cell_1_layer_call_and_return_conditional_losses while saving (showing 4 of 4). These functions will not be directly callable after loading.\n"
          ]
        },
        {
          "output_type": "stream",
          "name": "stdout",
          "text": [
            "\b\b\b\b\b\b\b\b\b\b\b\b\b\b\b\b\b\b\b\b\b\b\b\b\b\b\b\b\b\b\b\b\b\b\b\b\b\b\b\b\b\b\b\b\b\b\b\b\b\b\b\b\b\b\b\b\b\b\b\b\b\b\b\b\b\b\b\b\b\b\b\b\b\b\b\b\b\b\b\b\b\b\b\b\b\b\b\b\r15625/15625 [==============================] - 133s 9ms/step - loss: 5.1146 - accuracy: 0.1558\n",
            "Epoch 12/100\n",
            "15623/15625 [============================>.] - ETA: 0s - loss: 5.0561 - accuracy: 0.1593\n",
            "Epoch 12: loss improved from 5.11457 to 5.05603, saving model to /content/drive/MyDrive/Deep Learning/task3/checkpoints/task3_checkpoints.0000012\n"
          ]
        },
        {
          "output_type": "stream",
          "name": "stderr",
          "text": [
            "WARNING:absl:Found untraced functions such as lstm_cell_layer_call_fn, lstm_cell_layer_call_and_return_conditional_losses, lstm_cell_1_layer_call_fn, lstm_cell_1_layer_call_and_return_conditional_losses while saving (showing 4 of 4). These functions will not be directly callable after loading.\n"
          ]
        },
        {
          "output_type": "stream",
          "name": "stdout",
          "text": [
            "\b\b\b\b\b\b\b\b\b\b\b\b\b\b\b\b\b\b\b\b\b\b\b\b\b\b\b\b\b\b\b\b\b\b\b\b\b\b\b\b\b\b\b\b\b\b\b\b\b\b\b\b\b\b\b\b\b\b\b\b\b\b\b\b\b\b\b\b\b\b\b\b\b\b\b\b\b\b\b\b\b\b\b\b\b\b\b\b\r15625/15625 [==============================] - 133s 8ms/step - loss: 5.0560 - accuracy: 0.1593\n",
            "Epoch 13/100\n",
            "15624/15625 [============================>.] - ETA: 0s - loss: 5.0035 - accuracy: 0.1630\n",
            "Epoch 13: loss improved from 5.05603 to 5.00358, saving model to /content/drive/MyDrive/Deep Learning/task3/checkpoints/task3_checkpoints.0000013\n"
          ]
        },
        {
          "output_type": "stream",
          "name": "stderr",
          "text": [
            "WARNING:absl:Found untraced functions such as lstm_cell_layer_call_fn, lstm_cell_layer_call_and_return_conditional_losses, lstm_cell_1_layer_call_fn, lstm_cell_1_layer_call_and_return_conditional_losses while saving (showing 4 of 4). These functions will not be directly callable after loading.\n"
          ]
        },
        {
          "output_type": "stream",
          "name": "stdout",
          "text": [
            "\b\b\b\b\b\b\b\b\b\b\b\b\b\b\b\b\b\b\b\b\b\b\b\b\b\b\b\b\b\b\b\b\b\b\b\b\b\b\b\b\b\b\b\b\b\b\b\b\b\b\b\b\b\b\b\b\b\b\b\b\b\b\b\b\b\b\b\b\b\b\b\b\b\b\b\b\b\b\b\b\b\b\b\b\b\b\b\b\r15625/15625 [==============================] - 135s 9ms/step - loss: 5.0036 - accuracy: 0.1630\n",
            "Epoch 14/100\n",
            "15622/15625 [============================>.] - ETA: 0s - loss: 4.9549 - accuracy: 0.1660\n",
            "Epoch 14: loss improved from 5.00358 to 4.95495, saving model to /content/drive/MyDrive/Deep Learning/task3/checkpoints/task3_checkpoints.0000014\n"
          ]
        },
        {
          "output_type": "stream",
          "name": "stderr",
          "text": [
            "WARNING:absl:Found untraced functions such as lstm_cell_layer_call_fn, lstm_cell_layer_call_and_return_conditional_losses, lstm_cell_1_layer_call_fn, lstm_cell_1_layer_call_and_return_conditional_losses while saving (showing 4 of 4). These functions will not be directly callable after loading.\n"
          ]
        },
        {
          "output_type": "stream",
          "name": "stdout",
          "text": [
            "\b\b\b\b\b\b\b\b\b\b\b\b\b\b\b\b\b\b\b\b\b\b\b\b\b\b\b\b\b\b\b\b\b\b\b\b\b\b\b\b\b\b\b\b\b\b\b\b\b\b\b\b\b\b\b\b\b\b\b\b\b\b\b\b\b\b\b\b\b\b\b\b\b\b\b\b\b\b\b\b\b\b\b\b\b\b\b\b\r15625/15625 [==============================] - 136s 9ms/step - loss: 4.9549 - accuracy: 0.1660\n",
            "Epoch 15/100\n",
            "15622/15625 [============================>.] - ETA: 0s - loss: 4.9124 - accuracy: 0.1690\n",
            "Epoch 15: loss improved from 4.95495 to 4.91243, saving model to /content/drive/MyDrive/Deep Learning/task3/checkpoints/task3_checkpoints.0000015\n"
          ]
        },
        {
          "output_type": "stream",
          "name": "stderr",
          "text": [
            "WARNING:absl:Found untraced functions such as lstm_cell_layer_call_fn, lstm_cell_layer_call_and_return_conditional_losses, lstm_cell_1_layer_call_fn, lstm_cell_1_layer_call_and_return_conditional_losses while saving (showing 4 of 4). These functions will not be directly callable after loading.\n"
          ]
        },
        {
          "output_type": "stream",
          "name": "stdout",
          "text": [
            "\b\b\b\b\b\b\b\b\b\b\b\b\b\b\b\b\b\b\b\b\b\b\b\b\b\b\b\b\b\b\b\b\b\b\b\b\b\b\b\b\b\b\b\b\b\b\b\b\b\b\b\b\b\b\b\b\b\b\b\b\b\b\b\b\b\b\b\b\b\b\b\b\b\b\b\b\b\b\b\b\b\b\b\b\b\b\b\b\r15625/15625 [==============================] - 134s 9ms/step - loss: 4.9124 - accuracy: 0.1690\n",
            "Epoch 16/100\n",
            "15620/15625 [============================>.] - ETA: 0s - loss: 4.8711 - accuracy: 0.1713\n",
            "Epoch 16: loss improved from 4.91243 to 4.87120, saving model to /content/drive/MyDrive/Deep Learning/task3/checkpoints/task3_checkpoints.0000016\n"
          ]
        },
        {
          "output_type": "stream",
          "name": "stderr",
          "text": [
            "WARNING:absl:Found untraced functions such as lstm_cell_layer_call_fn, lstm_cell_layer_call_and_return_conditional_losses, lstm_cell_1_layer_call_fn, lstm_cell_1_layer_call_and_return_conditional_losses while saving (showing 4 of 4). These functions will not be directly callable after loading.\n"
          ]
        },
        {
          "output_type": "stream",
          "name": "stdout",
          "text": [
            "\b\b\b\b\b\b\b\b\b\b\b\b\b\b\b\b\b\b\b\b\b\b\b\b\b\b\b\b\b\b\b\b\b\b\b\b\b\b\b\b\b\b\b\b\b\b\b\b\b\b\b\b\b\b\b\b\b\b\b\b\b\b\b\b\b\b\b\b\b\b\b\b\b\b\b\b\b\b\b\b\b\b\b\b\b\b\b\b\r15625/15625 [==============================] - 134s 9ms/step - loss: 4.8712 - accuracy: 0.1713\n",
            "Epoch 17/100\n",
            "15619/15625 [============================>.] - ETA: 0s - loss: 4.8345 - accuracy: 0.1736\n",
            "Epoch 17: loss improved from 4.87120 to 4.83444, saving model to /content/drive/MyDrive/Deep Learning/task3/checkpoints/task3_checkpoints.0000017\n"
          ]
        },
        {
          "output_type": "stream",
          "name": "stderr",
          "text": [
            "WARNING:absl:Found untraced functions such as lstm_cell_layer_call_fn, lstm_cell_layer_call_and_return_conditional_losses, lstm_cell_1_layer_call_fn, lstm_cell_1_layer_call_and_return_conditional_losses while saving (showing 4 of 4). These functions will not be directly callable after loading.\n"
          ]
        },
        {
          "output_type": "stream",
          "name": "stdout",
          "text": [
            "\b\b\b\b\b\b\b\b\b\b\b\b\b\b\b\b\b\b\b\b\b\b\b\b\b\b\b\b\b\b\b\b\b\b\b\b\b\b\b\b\b\b\b\b\b\b\b\b\b\b\b\b\b\b\b\b\b\b\b\b\b\b\b\b\b\b\b\b\b\b\b\b\b\b\b\b\b\b\b\b\b\b\b\b\b\b\b\b\r15625/15625 [==============================] - 137s 9ms/step - loss: 4.8344 - accuracy: 0.1736\n",
            "Epoch 18/100\n",
            "15623/15625 [============================>.] - ETA: 0s - loss: 4.7971 - accuracy: 0.1763\n",
            "Epoch 18: loss improved from 4.83444 to 4.79717, saving model to /content/drive/MyDrive/Deep Learning/task3/checkpoints/task3_checkpoints.0000018\n"
          ]
        },
        {
          "output_type": "stream",
          "name": "stderr",
          "text": [
            "WARNING:absl:Found untraced functions such as lstm_cell_layer_call_fn, lstm_cell_layer_call_and_return_conditional_losses, lstm_cell_1_layer_call_fn, lstm_cell_1_layer_call_and_return_conditional_losses while saving (showing 4 of 4). These functions will not be directly callable after loading.\n"
          ]
        },
        {
          "output_type": "stream",
          "name": "stdout",
          "text": [
            "\b\b\b\b\b\b\b\b\b\b\b\b\b\b\b\b\b\b\b\b\b\b\b\b\b\b\b\b\b\b\b\b\b\b\b\b\b\b\b\b\b\b\b\b\b\b\b\b\b\b\b\b\b\b\b\b\b\b\b\b\b\b\b\b\b\b\b\b\b\b\b\b\b\b\b\b\b\b\b\b\b\b\b\b\b\b\b\b\r15625/15625 [==============================] - 135s 9ms/step - loss: 4.7972 - accuracy: 0.1763\n",
            "Epoch 19/100\n",
            "15625/15625 [==============================] - ETA: 0s - loss: 4.7664 - accuracy: 0.1784\n",
            "Epoch 19: loss improved from 4.79717 to 4.76642, saving model to /content/drive/MyDrive/Deep Learning/task3/checkpoints/task3_checkpoints.0000019\n"
          ]
        },
        {
          "output_type": "stream",
          "name": "stderr",
          "text": [
            "WARNING:absl:Found untraced functions such as lstm_cell_layer_call_fn, lstm_cell_layer_call_and_return_conditional_losses, lstm_cell_1_layer_call_fn, lstm_cell_1_layer_call_and_return_conditional_losses while saving (showing 4 of 4). These functions will not be directly callable after loading.\n"
          ]
        },
        {
          "output_type": "stream",
          "name": "stdout",
          "text": [
            "\b\b\b\b\b\b\b\b\b\b\b\b\b\b\b\b\b\b\b\b\b\b\b\b\b\b\b\b\b\b\b\b\b\b\b\b\b\b\b\b\b\b\b\b\b\b\b\b\b\b\b\b\b\b\b\b\b\b\b\b\b\b\b\b\b\b\b\b\b\b\b\b\b\b\b\b\b\b\b\b\b\b\b\b\b\b\b\b\r15625/15625 [==============================] - 134s 9ms/step - loss: 4.7664 - accuracy: 0.1784\n",
            "Epoch 20/100\n",
            "15619/15625 [============================>.] - ETA: 0s - loss: 4.7365 - accuracy: 0.1806\n",
            "Epoch 20: loss improved from 4.76642 to 4.73654, saving model to /content/drive/MyDrive/Deep Learning/task3/checkpoints/task3_checkpoints.0000020\n"
          ]
        },
        {
          "output_type": "stream",
          "name": "stderr",
          "text": [
            "WARNING:absl:Found untraced functions such as lstm_cell_layer_call_fn, lstm_cell_layer_call_and_return_conditional_losses, lstm_cell_1_layer_call_fn, lstm_cell_1_layer_call_and_return_conditional_losses while saving (showing 4 of 4). These functions will not be directly callable after loading.\n"
          ]
        },
        {
          "output_type": "stream",
          "name": "stdout",
          "text": [
            "\b\b\b\b\b\b\b\b\b\b\b\b\b\b\b\b\b\b\b\b\b\b\b\b\b\b\b\b\b\b\b\b\b\b\b\b\b\b\b\b\b\b\b\b\b\b\b\b\b\b\b\b\b\b\b\b\b\b\b\b\b\b\b\b\b\b\b\b\b\b\b\b\b\b\b\b\b\b\b\b\b\b\b\b\b\b\b\b\r15625/15625 [==============================] - 134s 9ms/step - loss: 4.7365 - accuracy: 0.1806\n",
            "Epoch 21/100\n",
            "15622/15625 [============================>.] - ETA: 0s - loss: 4.7087 - accuracy: 0.1827\n",
            "Epoch 21: loss improved from 4.73654 to 4.70870, saving model to /content/drive/MyDrive/Deep Learning/task3/checkpoints/task3_checkpoints.0000021\n"
          ]
        },
        {
          "output_type": "stream",
          "name": "stderr",
          "text": [
            "WARNING:absl:Found untraced functions such as lstm_cell_layer_call_fn, lstm_cell_layer_call_and_return_conditional_losses, lstm_cell_1_layer_call_fn, lstm_cell_1_layer_call_and_return_conditional_losses while saving (showing 4 of 4). These functions will not be directly callable after loading.\n"
          ]
        },
        {
          "output_type": "stream",
          "name": "stdout",
          "text": [
            "\b\b\b\b\b\b\b\b\b\b\b\b\b\b\b\b\b\b\b\b\b\b\b\b\b\b\b\b\b\b\b\b\b\b\b\b\b\b\b\b\b\b\b\b\b\b\b\b\b\b\b\b\b\b\b\b\b\b\b\b\b\b\b\b\b\b\b\b\b\b\b\b\b\b\b\b\b\b\b\b\b\b\b\b\b\b\b\b\r15625/15625 [==============================] - 136s 9ms/step - loss: 4.7087 - accuracy: 0.1827\n",
            "Epoch 22/100\n",
            "15624/15625 [============================>.] - ETA: 0s - loss: 4.6836 - accuracy: 0.1849\n",
            "Epoch 22: loss improved from 4.70870 to 4.68362, saving model to /content/drive/MyDrive/Deep Learning/task3/checkpoints/task3_checkpoints.0000022\n"
          ]
        },
        {
          "output_type": "stream",
          "name": "stderr",
          "text": [
            "WARNING:absl:Found untraced functions such as lstm_cell_layer_call_fn, lstm_cell_layer_call_and_return_conditional_losses, lstm_cell_1_layer_call_fn, lstm_cell_1_layer_call_and_return_conditional_losses while saving (showing 4 of 4). These functions will not be directly callable after loading.\n"
          ]
        },
        {
          "output_type": "stream",
          "name": "stdout",
          "text": [
            "\b\b\b\b\b\b\b\b\b\b\b\b\b\b\b\b\b\b\b\b\b\b\b\b\b\b\b\b\b\b\b\b\b\b\b\b\b\b\b\b\b\b\b\b\b\b\b\b\b\b\b\b\b\b\b\b\b\b\b\b\b\b\b\b\b\b\b\b\b\b\b\b\b\b\b\b\b\b\b\b\b\b\b\b\b\b\b\b\r15625/15625 [==============================] - 133s 8ms/step - loss: 4.6836 - accuracy: 0.1849\n",
            "Epoch 23/100\n",
            "15619/15625 [============================>.] - ETA: 0s - loss: 4.6591 - accuracy: 0.1856\n",
            "Epoch 23: loss improved from 4.68362 to 4.65918, saving model to /content/drive/MyDrive/Deep Learning/task3/checkpoints/task3_checkpoints.0000023\n"
          ]
        },
        {
          "output_type": "stream",
          "name": "stderr",
          "text": [
            "WARNING:absl:Found untraced functions such as lstm_cell_layer_call_fn, lstm_cell_layer_call_and_return_conditional_losses, lstm_cell_1_layer_call_fn, lstm_cell_1_layer_call_and_return_conditional_losses while saving (showing 4 of 4). These functions will not be directly callable after loading.\n"
          ]
        },
        {
          "output_type": "stream",
          "name": "stdout",
          "text": [
            "\b\b\b\b\b\b\b\b\b\b\b\b\b\b\b\b\b\b\b\b\b\b\b\b\b\b\b\b\b\b\b\b\b\b\b\b\b\b\b\b\b\b\b\b\b\b\b\b\b\b\b\b\b\b\b\b\b\b\b\b\b\b\b\b\b\b\b\b\b\b\b\b\b\b\b\b\b\b\b\b\b\b\b\b\b\b\b\b\r15625/15625 [==============================] - 135s 9ms/step - loss: 4.6592 - accuracy: 0.1856\n",
            "Epoch 24/100\n",
            "15622/15625 [============================>.] - ETA: 0s - loss: 4.6356 - accuracy: 0.1877\n",
            "Epoch 24: loss improved from 4.65918 to 4.63554, saving model to /content/drive/MyDrive/Deep Learning/task3/checkpoints/task3_checkpoints.0000024\n"
          ]
        },
        {
          "output_type": "stream",
          "name": "stderr",
          "text": [
            "WARNING:absl:Found untraced functions such as lstm_cell_layer_call_fn, lstm_cell_layer_call_and_return_conditional_losses, lstm_cell_1_layer_call_fn, lstm_cell_1_layer_call_and_return_conditional_losses while saving (showing 4 of 4). These functions will not be directly callable after loading.\n"
          ]
        },
        {
          "output_type": "stream",
          "name": "stdout",
          "text": [
            "\b\b\b\b\b\b\b\b\b\b\b\b\b\b\b\b\b\b\b\b\b\b\b\b\b\b\b\b\b\b\b\b\b\b\b\b\b\b\b\b\b\b\b\b\b\b\b\b\b\b\b\b\b\b\b\b\b\b\b\b\b\b\b\b\b\b\b\b\b\b\b\b\b\b\b\b\b\b\b\b\b\b\b\b\b\b\b\b\r15625/15625 [==============================] - 134s 9ms/step - loss: 4.6355 - accuracy: 0.1877\n",
            "Epoch 25/100\n",
            "15621/15625 [============================>.] - ETA: 0s - loss: 4.6154 - accuracy: 0.1891\n",
            "Epoch 25: loss improved from 4.63554 to 4.61531, saving model to /content/drive/MyDrive/Deep Learning/task3/checkpoints/task3_checkpoints.0000025\n"
          ]
        },
        {
          "output_type": "stream",
          "name": "stderr",
          "text": [
            "WARNING:absl:Found untraced functions such as lstm_cell_layer_call_fn, lstm_cell_layer_call_and_return_conditional_losses, lstm_cell_1_layer_call_fn, lstm_cell_1_layer_call_and_return_conditional_losses while saving (showing 4 of 4). These functions will not be directly callable after loading.\n"
          ]
        },
        {
          "output_type": "stream",
          "name": "stdout",
          "text": [
            "\b\b\b\b\b\b\b\b\b\b\b\b\b\b\b\b\b\b\b\b\b\b\b\b\b\b\b\b\b\b\b\b\b\b\b\b\b\b\b\b\b\b\b\b\b\b\b\b\b\b\b\b\b\b\b\b\b\b\b\b\b\b\b\b\b\b\b\b\b\b\b\b\b\b\b\b\b\b\b\b\b\b\b\b\b\b\b\b\r15625/15625 [==============================] - 135s 9ms/step - loss: 4.6153 - accuracy: 0.1891\n",
            "Epoch 26/100\n",
            "15622/15625 [============================>.] - ETA: 0s - loss: 4.5963 - accuracy: 0.1903\n",
            "Epoch 26: loss improved from 4.61531 to 4.59632, saving model to /content/drive/MyDrive/Deep Learning/task3/checkpoints/task3_checkpoints.0000026\n"
          ]
        },
        {
          "output_type": "stream",
          "name": "stderr",
          "text": [
            "WARNING:absl:Found untraced functions such as lstm_cell_layer_call_fn, lstm_cell_layer_call_and_return_conditional_losses, lstm_cell_1_layer_call_fn, lstm_cell_1_layer_call_and_return_conditional_losses while saving (showing 4 of 4). These functions will not be directly callable after loading.\n"
          ]
        },
        {
          "output_type": "stream",
          "name": "stdout",
          "text": [
            "\b\b\b\b\b\b\b\b\b\b\b\b\b\b\b\b\b\b\b\b\b\b\b\b\b\b\b\b\b\b\b\b\b\b\b\b\b\b\b\b\b\b\b\b\b\b\b\b\b\b\b\b\b\b\b\b\b\b\b\b\b\b\b\b\b\b\b\b\b\b\b\b\b\b\b\b\b\b\b\b\b\b\b\b\b\b\b\b\r15625/15625 [==============================] - 133s 9ms/step - loss: 4.5963 - accuracy: 0.1903\n",
            "Epoch 27/100\n",
            "15621/15625 [============================>.] - ETA: 0s - loss: 4.5785 - accuracy: 0.1920\n",
            "Epoch 27: loss improved from 4.59632 to 4.57853, saving model to /content/drive/MyDrive/Deep Learning/task3/checkpoints/task3_checkpoints.0000027\n"
          ]
        },
        {
          "output_type": "stream",
          "name": "stderr",
          "text": [
            "WARNING:absl:Found untraced functions such as lstm_cell_layer_call_fn, lstm_cell_layer_call_and_return_conditional_losses, lstm_cell_1_layer_call_fn, lstm_cell_1_layer_call_and_return_conditional_losses while saving (showing 4 of 4). These functions will not be directly callable after loading.\n"
          ]
        },
        {
          "output_type": "stream",
          "name": "stdout",
          "text": [
            "\b\b\b\b\b\b\b\b\b\b\b\b\b\b\b\b\b\b\b\b\b\b\b\b\b\b\b\b\b\b\b\b\b\b\b\b\b\b\b\b\b\b\b\b\b\b\b\b\b\b\b\b\b\b\b\b\b\b\b\b\b\b\b\b\b\b\b\b\b\b\b\b\b\b\b\b\b\b\b\b\b\b\b\b\b\b\b\b\r15625/15625 [==============================] - 134s 9ms/step - loss: 4.5785 - accuracy: 0.1920\n",
            "Epoch 28/100\n",
            "15622/15625 [============================>.] - ETA: 0s - loss: 4.5622 - accuracy: 0.1933\n",
            "Epoch 28: loss improved from 4.57853 to 4.56215, saving model to /content/drive/MyDrive/Deep Learning/task3/checkpoints/task3_checkpoints.0000028\n"
          ]
        },
        {
          "output_type": "stream",
          "name": "stderr",
          "text": [
            "WARNING:absl:Found untraced functions such as lstm_cell_layer_call_fn, lstm_cell_layer_call_and_return_conditional_losses, lstm_cell_1_layer_call_fn, lstm_cell_1_layer_call_and_return_conditional_losses while saving (showing 4 of 4). These functions will not be directly callable after loading.\n"
          ]
        },
        {
          "output_type": "stream",
          "name": "stdout",
          "text": [
            "\b\b\b\b\b\b\b\b\b\b\b\b\b\b\b\b\b\b\b\b\b\b\b\b\b\b\b\b\b\b\b\b\b\b\b\b\b\b\b\b\b\b\b\b\b\b\b\b\b\b\b\b\b\b\b\b\b\b\b\b\b\b\b\b\b\b\b\b\b\b\b\b\b\b\b\b\b\b\b\b\b\b\b\b\b\b\b\b\r15625/15625 [==============================] - 133s 8ms/step - loss: 4.5621 - accuracy: 0.1933\n",
            "Epoch 29/100\n",
            "15621/15625 [============================>.] - ETA: 0s - loss: 4.5442 - accuracy: 0.1947\n",
            "Epoch 29: loss improved from 4.56215 to 4.54425, saving model to /content/drive/MyDrive/Deep Learning/task3/checkpoints/task3_checkpoints.0000029\n"
          ]
        },
        {
          "output_type": "stream",
          "name": "stderr",
          "text": [
            "WARNING:absl:Found untraced functions such as lstm_cell_layer_call_fn, lstm_cell_layer_call_and_return_conditional_losses, lstm_cell_1_layer_call_fn, lstm_cell_1_layer_call_and_return_conditional_losses while saving (showing 4 of 4). These functions will not be directly callable after loading.\n"
          ]
        },
        {
          "output_type": "stream",
          "name": "stdout",
          "text": [
            "\b\b\b\b\b\b\b\b\b\b\b\b\b\b\b\b\b\b\b\b\b\b\b\b\b\b\b\b\b\b\b\b\b\b\b\b\b\b\b\b\b\b\b\b\b\b\b\b\b\b\b\b\b\b\b\b\b\b\b\b\b\b\b\b\b\b\b\b\b\b\b\b\b\b\b\b\b\b\b\b\b\b\b\b\b\b\b\b\r15625/15625 [==============================] - 134s 9ms/step - loss: 4.5443 - accuracy: 0.1947\n",
            "Epoch 30/100\n",
            "15623/15625 [============================>.] - ETA: 0s - loss: 4.5312 - accuracy: 0.1956\n",
            "Epoch 30: loss improved from 4.54425 to 4.53116, saving model to /content/drive/MyDrive/Deep Learning/task3/checkpoints/task3_checkpoints.0000030\n"
          ]
        },
        {
          "output_type": "stream",
          "name": "stderr",
          "text": [
            "WARNING:absl:Found untraced functions such as lstm_cell_layer_call_fn, lstm_cell_layer_call_and_return_conditional_losses, lstm_cell_1_layer_call_fn, lstm_cell_1_layer_call_and_return_conditional_losses while saving (showing 4 of 4). These functions will not be directly callable after loading.\n"
          ]
        },
        {
          "output_type": "stream",
          "name": "stdout",
          "text": [
            "\b\b\b\b\b\b\b\b\b\b\b\b\b\b\b\b\b\b\b\b\b\b\b\b\b\b\b\b\b\b\b\b\b\b\b\b\b\b\b\b\b\b\b\b\b\b\b\b\b\b\b\b\b\b\b\b\b\b\b\b\b\b\b\b\b\b\b\b\b\b\b\b\b\b\b\b\b\b\b\b\b\b\b\b\b\b\b\b\r15625/15625 [==============================] - 135s 9ms/step - loss: 4.5312 - accuracy: 0.1956\n",
            "Epoch 31/100\n",
            "15621/15625 [============================>.] - ETA: 0s - loss: 4.5163 - accuracy: 0.1970\n",
            "Epoch 31: loss improved from 4.53116 to 4.51636, saving model to /content/drive/MyDrive/Deep Learning/task3/checkpoints/task3_checkpoints.0000031\n"
          ]
        },
        {
          "output_type": "stream",
          "name": "stderr",
          "text": [
            "WARNING:absl:Found untraced functions such as lstm_cell_layer_call_fn, lstm_cell_layer_call_and_return_conditional_losses, lstm_cell_1_layer_call_fn, lstm_cell_1_layer_call_and_return_conditional_losses while saving (showing 4 of 4). These functions will not be directly callable after loading.\n"
          ]
        },
        {
          "output_type": "stream",
          "name": "stdout",
          "text": [
            "\b\b\b\b\b\b\b\b\b\b\b\b\b\b\b\b\b\b\b\b\b\b\b\b\b\b\b\b\b\b\b\b\b\b\b\b\b\b\b\b\b\b\b\b\b\b\b\b\b\b\b\b\b\b\b\b\b\b\b\b\b\b\b\b\b\b\b\b\b\b\b\b\b\b\b\b\b\b\b\b\b\b\b\b\b\b\b\b\r15625/15625 [==============================] - 133s 9ms/step - loss: 4.5164 - accuracy: 0.1970\n",
            "Epoch 32/100\n",
            "15624/15625 [============================>.] - ETA: 0s - loss: 4.5019 - accuracy: 0.1984\n",
            "Epoch 32: loss improved from 4.51636 to 4.50194, saving model to /content/drive/MyDrive/Deep Learning/task3/checkpoints/task3_checkpoints.0000032\n"
          ]
        },
        {
          "output_type": "stream",
          "name": "stderr",
          "text": [
            "WARNING:absl:Found untraced functions such as lstm_cell_layer_call_fn, lstm_cell_layer_call_and_return_conditional_losses, lstm_cell_1_layer_call_fn, lstm_cell_1_layer_call_and_return_conditional_losses while saving (showing 4 of 4). These functions will not be directly callable after loading.\n"
          ]
        },
        {
          "output_type": "stream",
          "name": "stdout",
          "text": [
            "\b\b\b\b\b\b\b\b\b\b\b\b\b\b\b\b\b\b\b\b\b\b\b\b\b\b\b\b\b\b\b\b\b\b\b\b\b\b\b\b\b\b\b\b\b\b\b\b\b\b\b\b\b\b\b\b\b\b\b\b\b\b\b\b\b\b\b\b\b\b\b\b\b\b\b\b\b\b\b\b\b\b\b\b\b\b\b\b\r15625/15625 [==============================] - 133s 9ms/step - loss: 4.5019 - accuracy: 0.1984\n",
            "Epoch 33/100\n",
            "15622/15625 [============================>.] - ETA: 0s - loss: 4.4886 - accuracy: 0.1990\n",
            "Epoch 33: loss improved from 4.50194 to 4.48860, saving model to /content/drive/MyDrive/Deep Learning/task3/checkpoints/task3_checkpoints.0000033\n"
          ]
        },
        {
          "output_type": "stream",
          "name": "stderr",
          "text": [
            "WARNING:absl:Found untraced functions such as lstm_cell_layer_call_fn, lstm_cell_layer_call_and_return_conditional_losses, lstm_cell_1_layer_call_fn, lstm_cell_1_layer_call_and_return_conditional_losses while saving (showing 4 of 4). These functions will not be directly callable after loading.\n"
          ]
        },
        {
          "output_type": "stream",
          "name": "stdout",
          "text": [
            "\b\b\b\b\b\b\b\b\b\b\b\b\b\b\b\b\b\b\b\b\b\b\b\b\b\b\b\b\b\b\b\b\b\b\b\b\b\b\b\b\b\b\b\b\b\b\b\b\b\b\b\b\b\b\b\b\b\b\b\b\b\b\b\b\b\b\b\b\b\b\b\b\b\b\b\b\b\b\b\b\b\b\b\b\b\b\b\b\r15625/15625 [==============================] - 138s 9ms/step - loss: 4.4886 - accuracy: 0.1990\n",
            "Epoch 34/100\n",
            "15622/15625 [============================>.] - ETA: 0s - loss: 4.4755 - accuracy: 0.1998\n",
            "Epoch 34: loss improved from 4.48860 to 4.47548, saving model to /content/drive/MyDrive/Deep Learning/task3/checkpoints/task3_checkpoints.0000034\n"
          ]
        },
        {
          "output_type": "stream",
          "name": "stderr",
          "text": [
            "WARNING:absl:Found untraced functions such as lstm_cell_layer_call_fn, lstm_cell_layer_call_and_return_conditional_losses, lstm_cell_1_layer_call_fn, lstm_cell_1_layer_call_and_return_conditional_losses while saving (showing 4 of 4). These functions will not be directly callable after loading.\n"
          ]
        },
        {
          "output_type": "stream",
          "name": "stdout",
          "text": [
            "\b\b\b\b\b\b\b\b\b\b\b\b\b\b\b\b\b\b\b\b\b\b\b\b\b\b\b\b\b\b\b\b\b\b\b\b\b\b\b\b\b\b\b\b\b\b\b\b\b\b\b\b\b\b\b\b\b\b\b\b\b\b\b\b\b\b\b\b\b\b\b\b\b\b\b\b\b\b\b\b\b\b\b\b\b\b\b\b\r15625/15625 [==============================] - 133s 9ms/step - loss: 4.4755 - accuracy: 0.1998\n",
            "Epoch 35/100\n",
            "15624/15625 [============================>.] - ETA: 0s - loss: 4.4610 - accuracy: 0.2009\n",
            "Epoch 35: loss improved from 4.47548 to 4.46103, saving model to /content/drive/MyDrive/Deep Learning/task3/checkpoints/task3_checkpoints.0000035\n"
          ]
        },
        {
          "output_type": "stream",
          "name": "stderr",
          "text": [
            "WARNING:absl:Found untraced functions such as lstm_cell_layer_call_fn, lstm_cell_layer_call_and_return_conditional_losses, lstm_cell_1_layer_call_fn, lstm_cell_1_layer_call_and_return_conditional_losses while saving (showing 4 of 4). These functions will not be directly callable after loading.\n"
          ]
        },
        {
          "output_type": "stream",
          "name": "stdout",
          "text": [
            "\b\b\b\b\b\b\b\b\b\b\b\b\b\b\b\b\b\b\b\b\b\b\b\b\b\b\b\b\b\b\b\b\b\b\b\b\b\b\b\b\b\b\b\b\b\b\b\b\b\b\b\b\b\b\b\b\b\b\b\b\b\b\b\b\b\b\b\b\b\b\b\b\b\b\b\b\b\b\b\b\b\b\b\b\b\b\b\b\r15625/15625 [==============================] - 136s 9ms/step - loss: 4.4610 - accuracy: 0.2009\n",
            "Epoch 36/100\n",
            "15625/15625 [==============================] - ETA: 0s - loss: 4.4486 - accuracy: 0.2022\n",
            "Epoch 36: loss improved from 4.46103 to 4.44861, saving model to /content/drive/MyDrive/Deep Learning/task3/checkpoints/task3_checkpoints.0000036\n"
          ]
        },
        {
          "output_type": "stream",
          "name": "stderr",
          "text": [
            "WARNING:absl:Found untraced functions such as lstm_cell_layer_call_fn, lstm_cell_layer_call_and_return_conditional_losses, lstm_cell_1_layer_call_fn, lstm_cell_1_layer_call_and_return_conditional_losses while saving (showing 4 of 4). These functions will not be directly callable after loading.\n"
          ]
        },
        {
          "output_type": "stream",
          "name": "stdout",
          "text": [
            "\b\b\b\b\b\b\b\b\b\b\b\b\b\b\b\b\b\b\b\b\b\b\b\b\b\b\b\b\b\b\b\b\b\b\b\b\b\b\b\b\b\b\b\b\b\b\b\b\b\b\b\b\b\b\b\b\b\b\b\b\b\b\b\b\b\b\b\b\b\b\b\b\b\b\b\b\b\b\b\b\b\b\b\b\b\b\b\b\r15625/15625 [==============================] - 134s 9ms/step - loss: 4.4486 - accuracy: 0.2022\n",
            "Epoch 37/100\n",
            "15620/15625 [============================>.] - ETA: 0s - loss: 4.4391 - accuracy: 0.2025\n",
            "Epoch 37: loss improved from 4.44861 to 4.43910, saving model to /content/drive/MyDrive/Deep Learning/task3/checkpoints/task3_checkpoints.0000037\n"
          ]
        },
        {
          "output_type": "stream",
          "name": "stderr",
          "text": [
            "WARNING:absl:Found untraced functions such as lstm_cell_layer_call_fn, lstm_cell_layer_call_and_return_conditional_losses, lstm_cell_1_layer_call_fn, lstm_cell_1_layer_call_and_return_conditional_losses while saving (showing 4 of 4). These functions will not be directly callable after loading.\n"
          ]
        },
        {
          "output_type": "stream",
          "name": "stdout",
          "text": [
            "\b\b\b\b\b\b\b\b\b\b\b\b\b\b\b\b\b\b\b\b\b\b\b\b\b\b\b\b\b\b\b\b\b\b\b\b\b\b\b\b\b\b\b\b\b\b\b\b\b\b\b\b\b\b\b\b\b\b\b\b\b\b\b\b\b\b\b\b\b\b\b\b\b\b\b\b\b\b\b\b\b\b\b\b\b\b\b\b\r15625/15625 [==============================] - 136s 9ms/step - loss: 4.4391 - accuracy: 0.2025\n",
            "Epoch 38/100\n",
            "15621/15625 [============================>.] - ETA: 0s - loss: 4.4281 - accuracy: 0.2037\n",
            "Epoch 38: loss improved from 4.43910 to 4.42807, saving model to /content/drive/MyDrive/Deep Learning/task3/checkpoints/task3_checkpoints.0000038\n"
          ]
        },
        {
          "output_type": "stream",
          "name": "stderr",
          "text": [
            "WARNING:absl:Found untraced functions such as lstm_cell_layer_call_fn, lstm_cell_layer_call_and_return_conditional_losses, lstm_cell_1_layer_call_fn, lstm_cell_1_layer_call_and_return_conditional_losses while saving (showing 4 of 4). These functions will not be directly callable after loading.\n"
          ]
        },
        {
          "output_type": "stream",
          "name": "stdout",
          "text": [
            "\b\b\b\b\b\b\b\b\b\b\b\b\b\b\b\b\b\b\b\b\b\b\b\b\b\b\b\b\b\b\b\b\b\b\b\b\b\b\b\b\b\b\b\b\b\b\b\b\b\b\b\b\b\b\b\b\b\b\b\b\b\b\b\b\b\b\b\b\b\b\b\b\b\b\b\b\b\b\b\b\b\b\b\b\b\b\b\b\r15625/15625 [==============================] - 136s 9ms/step - loss: 4.4281 - accuracy: 0.2037\n",
            "Epoch 39/100\n",
            "15620/15625 [============================>.] - ETA: 0s - loss: 4.4188 - accuracy: 0.2047\n",
            "Epoch 39: loss improved from 4.42807 to 4.41882, saving model to /content/drive/MyDrive/Deep Learning/task3/checkpoints/task3_checkpoints.0000039\n"
          ]
        },
        {
          "output_type": "stream",
          "name": "stderr",
          "text": [
            "WARNING:absl:Found untraced functions such as lstm_cell_layer_call_fn, lstm_cell_layer_call_and_return_conditional_losses, lstm_cell_1_layer_call_fn, lstm_cell_1_layer_call_and_return_conditional_losses while saving (showing 4 of 4). These functions will not be directly callable after loading.\n"
          ]
        },
        {
          "output_type": "stream",
          "name": "stdout",
          "text": [
            "\b\b\b\b\b\b\b\b\b\b\b\b\b\b\b\b\b\b\b\b\b\b\b\b\b\b\b\b\b\b\b\b\b\b\b\b\b\b\b\b\b\b\b\b\b\b\b\b\b\b\b\b\b\b\b\b\b\b\b\b\b\b\b\b\b\b\b\b\b\b\b\b\b\b\b\b\b\b\b\b\b\b\b\b\b\b\b\b\r15625/15625 [==============================] - 134s 9ms/step - loss: 4.4188 - accuracy: 0.2047\n",
            "Epoch 40/100\n",
            "15622/15625 [============================>.] - ETA: 0s - loss: 4.4089 - accuracy: 0.2053\n",
            "Epoch 40: loss improved from 4.41882 to 4.40891, saving model to /content/drive/MyDrive/Deep Learning/task3/checkpoints/task3_checkpoints.0000040\n"
          ]
        },
        {
          "output_type": "stream",
          "name": "stderr",
          "text": [
            "WARNING:absl:Found untraced functions such as lstm_cell_layer_call_fn, lstm_cell_layer_call_and_return_conditional_losses, lstm_cell_1_layer_call_fn, lstm_cell_1_layer_call_and_return_conditional_losses while saving (showing 4 of 4). These functions will not be directly callable after loading.\n"
          ]
        },
        {
          "output_type": "stream",
          "name": "stdout",
          "text": [
            "\b\b\b\b\b\b\b\b\b\b\b\b\b\b\b\b\b\b\b\b\b\b\b\b\b\b\b\b\b\b\b\b\b\b\b\b\b\b\b\b\b\b\b\b\b\b\b\b\b\b\b\b\b\b\b\b\b\b\b\b\b\b\b\b\b\b\b\b\b\b\b\b\b\b\b\b\b\b\b\b\b\b\b\b\b\b\b\b\r15625/15625 [==============================] - 133s 9ms/step - loss: 4.4089 - accuracy: 0.2053\n",
            "Epoch 41/100\n",
            "15624/15625 [============================>.] - ETA: 0s - loss: 4.3995 - accuracy: 0.2060\n",
            "Epoch 41: loss improved from 4.40891 to 4.39955, saving model to /content/drive/MyDrive/Deep Learning/task3/checkpoints/task3_checkpoints.0000041\n"
          ]
        },
        {
          "output_type": "stream",
          "name": "stderr",
          "text": [
            "WARNING:absl:Found untraced functions such as lstm_cell_layer_call_fn, lstm_cell_layer_call_and_return_conditional_losses, lstm_cell_1_layer_call_fn, lstm_cell_1_layer_call_and_return_conditional_losses while saving (showing 4 of 4). These functions will not be directly callable after loading.\n"
          ]
        },
        {
          "output_type": "stream",
          "name": "stdout",
          "text": [
            "\b\b\b\b\b\b\b\b\b\b\b\b\b\b\b\b\b\b\b\b\b\b\b\b\b\b\b\b\b\b\b\b\b\b\b\b\b\b\b\b\b\b\b\b\b\b\b\b\b\b\b\b\b\b\b\b\b\b\b\b\b\b\b\b\b\b\b\b\b\b\b\b\b\b\b\b\b\b\b\b\b\b\b\b\b\b\b\b\r15625/15625 [==============================] - 136s 9ms/step - loss: 4.3996 - accuracy: 0.2060\n",
            "Epoch 42/100\n",
            "15620/15625 [============================>.] - ETA: 0s - loss: 4.3915 - accuracy: 0.2066\n",
            "Epoch 42: loss improved from 4.39955 to 4.39145, saving model to /content/drive/MyDrive/Deep Learning/task3/checkpoints/task3_checkpoints.0000042\n"
          ]
        },
        {
          "output_type": "stream",
          "name": "stderr",
          "text": [
            "WARNING:absl:Found untraced functions such as lstm_cell_layer_call_fn, lstm_cell_layer_call_and_return_conditional_losses, lstm_cell_1_layer_call_fn, lstm_cell_1_layer_call_and_return_conditional_losses while saving (showing 4 of 4). These functions will not be directly callable after loading.\n"
          ]
        },
        {
          "output_type": "stream",
          "name": "stdout",
          "text": [
            "\b\b\b\b\b\b\b\b\b\b\b\b\b\b\b\b\b\b\b\b\b\b\b\b\b\b\b\b\b\b\b\b\b\b\b\b\b\b\b\b\b\b\b\b\b\b\b\b\b\b\b\b\b\b\b\b\b\b\b\b\b\b\b\b\b\b\b\b\b\b\b\b\b\b\b\b\b\b\b\b\b\b\b\b\b\b\b\b\r15625/15625 [==============================] - 133s 9ms/step - loss: 4.3914 - accuracy: 0.2067\n",
            "Epoch 43/100\n",
            "15625/15625 [==============================] - ETA: 0s - loss: 4.3822 - accuracy: 0.2076\n",
            "Epoch 43: loss improved from 4.39145 to 4.38215, saving model to /content/drive/MyDrive/Deep Learning/task3/checkpoints/task3_checkpoints.0000043\n"
          ]
        },
        {
          "output_type": "stream",
          "name": "stderr",
          "text": [
            "WARNING:absl:Found untraced functions such as lstm_cell_layer_call_fn, lstm_cell_layer_call_and_return_conditional_losses, lstm_cell_1_layer_call_fn, lstm_cell_1_layer_call_and_return_conditional_losses while saving (showing 4 of 4). These functions will not be directly callable after loading.\n"
          ]
        },
        {
          "output_type": "stream",
          "name": "stdout",
          "text": [
            "\b\b\b\b\b\b\b\b\b\b\b\b\b\b\b\b\b\b\b\b\b\b\b\b\b\b\b\b\b\b\b\b\b\b\b\b\b\b\b\b\b\b\b\b\b\b\b\b\b\b\b\b\b\b\b\b\b\b\b\b\b\b\b\b\b\b\b\b\b\b\b\b\b\b\b\b\b\b\b\b\b\b\b\b\b\b\b\b\r15625/15625 [==============================] - 135s 9ms/step - loss: 4.3822 - accuracy: 0.2076\n",
            "Epoch 44/100\n",
            "15622/15625 [============================>.] - ETA: 0s - loss: 4.3747 - accuracy: 0.2080\n",
            "Epoch 44: loss improved from 4.38215 to 4.37470, saving model to /content/drive/MyDrive/Deep Learning/task3/checkpoints/task3_checkpoints.0000044\n"
          ]
        },
        {
          "output_type": "stream",
          "name": "stderr",
          "text": [
            "WARNING:absl:Found untraced functions such as lstm_cell_layer_call_fn, lstm_cell_layer_call_and_return_conditional_losses, lstm_cell_1_layer_call_fn, lstm_cell_1_layer_call_and_return_conditional_losses while saving (showing 4 of 4). These functions will not be directly callable after loading.\n"
          ]
        },
        {
          "output_type": "stream",
          "name": "stdout",
          "text": [
            "\b\b\b\b\b\b\b\b\b\b\b\b\b\b\b\b\b\b\b\b\b\b\b\b\b\b\b\b\b\b\b\b\b\b\b\b\b\b\b\b\b\b\b\b\b\b\b\b\b\b\b\b\b\b\b\b\b\b\b\b\b\b\b\b\b\b\b\b\b\b\b\b\b\b\b\b\b\b\b\b\b\b\b\b\b\b\b\b\r15625/15625 [==============================] - 133s 9ms/step - loss: 4.3747 - accuracy: 0.2080\n",
            "Epoch 45/100\n",
            "15621/15625 [============================>.] - ETA: 0s - loss: 4.3675 - accuracy: 0.2090\n",
            "Epoch 45: loss improved from 4.37470 to 4.36745, saving model to /content/drive/MyDrive/Deep Learning/task3/checkpoints/task3_checkpoints.0000045\n"
          ]
        },
        {
          "output_type": "stream",
          "name": "stderr",
          "text": [
            "WARNING:absl:Found untraced functions such as lstm_cell_layer_call_fn, lstm_cell_layer_call_and_return_conditional_losses, lstm_cell_1_layer_call_fn, lstm_cell_1_layer_call_and_return_conditional_losses while saving (showing 4 of 4). These functions will not be directly callable after loading.\n"
          ]
        },
        {
          "output_type": "stream",
          "name": "stdout",
          "text": [
            "\b\b\b\b\b\b\b\b\b\b\b\b\b\b\b\b\b\b\b\b\b\b\b\b\b\b\b\b\b\b\b\b\b\b\b\b\b\b\b\b\b\b\b\b\b\b\b\b\b\b\b\b\b\b\b\b\b\b\b\b\b\b\b\b\b\b\b\b\b\b\b\b\b\b\b\b\b\b\b\b\b\b\b\b\b\b\b\b\r15625/15625 [==============================] - 135s 9ms/step - loss: 4.3675 - accuracy: 0.2090\n",
            "Epoch 46/100\n",
            "15621/15625 [============================>.] - ETA: 0s - loss: 4.3603 - accuracy: 0.2097\n",
            "Epoch 46: loss improved from 4.36745 to 4.36028, saving model to /content/drive/MyDrive/Deep Learning/task3/checkpoints/task3_checkpoints.0000046\n"
          ]
        },
        {
          "output_type": "stream",
          "name": "stderr",
          "text": [
            "WARNING:absl:Found untraced functions such as lstm_cell_layer_call_fn, lstm_cell_layer_call_and_return_conditional_losses, lstm_cell_1_layer_call_fn, lstm_cell_1_layer_call_and_return_conditional_losses while saving (showing 4 of 4). These functions will not be directly callable after loading.\n"
          ]
        },
        {
          "output_type": "stream",
          "name": "stdout",
          "text": [
            "\b\b\b\b\b\b\b\b\b\b\b\b\b\b\b\b\b\b\b\b\b\b\b\b\b\b\b\b\b\b\b\b\b\b\b\b\b\b\b\b\b\b\b\b\b\b\b\b\b\b\b\b\b\b\b\b\b\b\b\b\b\b\b\b\b\b\b\b\b\b\b\b\b\b\b\b\b\b\b\b\b\b\b\b\b\b\b\b\r15625/15625 [==============================] - 133s 9ms/step - loss: 4.3603 - accuracy: 0.2097\n",
            "Epoch 47/100\n",
            "15625/15625 [==============================] - ETA: 0s - loss: 4.3553 - accuracy: 0.2099\n",
            "Epoch 47: loss improved from 4.36028 to 4.35534, saving model to /content/drive/MyDrive/Deep Learning/task3/checkpoints/task3_checkpoints.0000047\n"
          ]
        },
        {
          "output_type": "stream",
          "name": "stderr",
          "text": [
            "WARNING:absl:Found untraced functions such as lstm_cell_layer_call_fn, lstm_cell_layer_call_and_return_conditional_losses, lstm_cell_1_layer_call_fn, lstm_cell_1_layer_call_and_return_conditional_losses while saving (showing 4 of 4). These functions will not be directly callable after loading.\n"
          ]
        },
        {
          "output_type": "stream",
          "name": "stdout",
          "text": [
            "\b\b\b\b\b\b\b\b\b\b\b\b\b\b\b\b\b\b\b\b\b\b\b\b\b\b\b\b\b\b\b\b\b\b\b\b\b\b\b\b\b\b\b\b\b\b\b\b\b\b\b\b\b\b\b\b\b\b\b\b\b\b\b\b\b\b\b\b\b\b\b\b\b\b\b\b\b\b\b\b\b\b\b\b\b\b\b\b\r15625/15625 [==============================] - 135s 9ms/step - loss: 4.3553 - accuracy: 0.2099\n",
            "Epoch 48/100\n",
            "15619/15625 [============================>.] - ETA: 0s - loss: 4.3488 - accuracy: 0.2109\n",
            "Epoch 48: loss improved from 4.35534 to 4.34883, saving model to /content/drive/MyDrive/Deep Learning/task3/checkpoints/task3_checkpoints.0000048\n"
          ]
        },
        {
          "output_type": "stream",
          "name": "stderr",
          "text": [
            "WARNING:absl:Found untraced functions such as lstm_cell_layer_call_fn, lstm_cell_layer_call_and_return_conditional_losses, lstm_cell_1_layer_call_fn, lstm_cell_1_layer_call_and_return_conditional_losses while saving (showing 4 of 4). These functions will not be directly callable after loading.\n"
          ]
        },
        {
          "output_type": "stream",
          "name": "stdout",
          "text": [
            "\b\b\b\b\b\b\b\b\b\b\b\b\b\b\b\b\b\b\b\b\b\b\b\b\b\b\b\b\b\b\b\b\b\b\b\b\b\b\b\b\b\b\b\b\b\b\b\b\b\b\b\b\b\b\b\b\b\b\b\b\b\b\b\b\b\b\b\b\b\b\b\b\b\b\b\b\b\b\b\b\b\b\b\b\b\b\b\b\r15625/15625 [==============================] - 133s 9ms/step - loss: 4.3488 - accuracy: 0.2109\n",
            "Epoch 49/100\n",
            "15621/15625 [============================>.] - ETA: 0s - loss: 4.3417 - accuracy: 0.2117\n",
            "Epoch 49: loss improved from 4.34883 to 4.34187, saving model to /content/drive/MyDrive/Deep Learning/task3/checkpoints/task3_checkpoints.0000049\n"
          ]
        },
        {
          "output_type": "stream",
          "name": "stderr",
          "text": [
            "WARNING:absl:Found untraced functions such as lstm_cell_layer_call_fn, lstm_cell_layer_call_and_return_conditional_losses, lstm_cell_1_layer_call_fn, lstm_cell_1_layer_call_and_return_conditional_losses while saving (showing 4 of 4). These functions will not be directly callable after loading.\n"
          ]
        },
        {
          "output_type": "stream",
          "name": "stdout",
          "text": [
            "\b\b\b\b\b\b\b\b\b\b\b\b\b\b\b\b\b\b\b\b\b\b\b\b\b\b\b\b\b\b\b\b\b\b\b\b\b\b\b\b\b\b\b\b\b\b\b\b\b\b\b\b\b\b\b\b\b\b\b\b\b\b\b\b\b\b\b\b\b\b\b\b\b\b\b\b\b\b\b\b\b\b\b\b\b\b\b\b\r15625/15625 [==============================] - 135s 9ms/step - loss: 4.3419 - accuracy: 0.2117\n",
            "Epoch 50/100\n",
            "15619/15625 [============================>.] - ETA: 0s - loss: 4.3353 - accuracy: 0.2118\n",
            "Epoch 50: loss improved from 4.34187 to 4.33529, saving model to /content/drive/MyDrive/Deep Learning/task3/checkpoints/task3_checkpoints.0000050\n"
          ]
        },
        {
          "output_type": "stream",
          "name": "stderr",
          "text": [
            "WARNING:absl:Found untraced functions such as lstm_cell_layer_call_fn, lstm_cell_layer_call_and_return_conditional_losses, lstm_cell_1_layer_call_fn, lstm_cell_1_layer_call_and_return_conditional_losses while saving (showing 4 of 4). These functions will not be directly callable after loading.\n"
          ]
        },
        {
          "output_type": "stream",
          "name": "stdout",
          "text": [
            "\b\b\b\b\b\b\b\b\b\b\b\b\b\b\b\b\b\b\b\b\b\b\b\b\b\b\b\b\b\b\b\b\b\b\b\b\b\b\b\b\b\b\b\b\b\b\b\b\b\b\b\b\b\b\b\b\b\b\b\b\b\b\b\b\b\b\b\b\b\b\b\b\b\b\b\b\b\b\b\b\b\b\b\b\b\b\b\b\r15625/15625 [==============================] - 135s 9ms/step - loss: 4.3353 - accuracy: 0.2118\n",
            "Epoch 51/100\n",
            "15625/15625 [==============================] - ETA: 0s - loss: 4.3282 - accuracy: 0.2130\n",
            "Epoch 51: loss improved from 4.33529 to 4.32824, saving model to /content/drive/MyDrive/Deep Learning/task3/checkpoints/task3_checkpoints.0000051\n"
          ]
        },
        {
          "output_type": "stream",
          "name": "stderr",
          "text": [
            "WARNING:absl:Found untraced functions such as lstm_cell_layer_call_fn, lstm_cell_layer_call_and_return_conditional_losses, lstm_cell_1_layer_call_fn, lstm_cell_1_layer_call_and_return_conditional_losses while saving (showing 4 of 4). These functions will not be directly callable after loading.\n"
          ]
        },
        {
          "output_type": "stream",
          "name": "stdout",
          "text": [
            "\b\b\b\b\b\b\b\b\b\b\b\b\b\b\b\b\b\b\b\b\b\b\b\b\b\b\b\b\b\b\b\b\b\b\b\b\b\b\b\b\b\b\b\b\b\b\b\b\b\b\b\b\b\b\b\b\b\b\b\b\b\b\b\b\b\b\b\b\b\b\b\b\b\b\b\b\b\b\b\b\b\b\b\b\b\b\b\b\r15625/15625 [==============================] - 133s 9ms/step - loss: 4.3282 - accuracy: 0.2130\n",
            "Epoch 52/100\n",
            "15625/15625 [==============================] - ETA: 0s - loss: 4.3266 - accuracy: 0.2128\n",
            "Epoch 52: loss improved from 4.32824 to 4.32657, saving model to /content/drive/MyDrive/Deep Learning/task3/checkpoints/task3_checkpoints.0000052\n"
          ]
        },
        {
          "output_type": "stream",
          "name": "stderr",
          "text": [
            "WARNING:absl:Found untraced functions such as lstm_cell_layer_call_fn, lstm_cell_layer_call_and_return_conditional_losses, lstm_cell_1_layer_call_fn, lstm_cell_1_layer_call_and_return_conditional_losses while saving (showing 4 of 4). These functions will not be directly callable after loading.\n"
          ]
        },
        {
          "output_type": "stream",
          "name": "stdout",
          "text": [
            "\b\b\b\b\b\b\b\b\b\b\b\b\b\b\b\b\b\b\b\b\b\b\b\b\b\b\b\b\b\b\b\b\b\b\b\b\b\b\b\b\b\b\b\b\b\b\b\b\b\b\b\b\b\b\b\b\b\b\b\b\b\b\b\b\b\b\b\b\b\b\b\b\b\b\b\b\b\b\b\b\b\b\b\b\b\b\b\b\r15625/15625 [==============================] - 132s 8ms/step - loss: 4.3266 - accuracy: 0.2128\n",
            "Epoch 53/100\n",
            "15625/15625 [==============================] - ETA: 0s - loss: 4.3212 - accuracy: 0.2132\n",
            "Epoch 53: loss improved from 4.32657 to 4.32119, saving model to /content/drive/MyDrive/Deep Learning/task3/checkpoints/task3_checkpoints.0000053\n"
          ]
        },
        {
          "output_type": "stream",
          "name": "stderr",
          "text": [
            "WARNING:absl:Found untraced functions such as lstm_cell_layer_call_fn, lstm_cell_layer_call_and_return_conditional_losses, lstm_cell_1_layer_call_fn, lstm_cell_1_layer_call_and_return_conditional_losses while saving (showing 4 of 4). These functions will not be directly callable after loading.\n"
          ]
        },
        {
          "output_type": "stream",
          "name": "stdout",
          "text": [
            "\b\b\b\b\b\b\b\b\b\b\b\b\b\b\b\b\b\b\b\b\b\b\b\b\b\b\b\b\b\b\b\b\b\b\b\b\b\b\b\b\b\b\b\b\b\b\b\b\b\b\b\b\b\b\b\b\b\b\b\b\b\b\b\b\b\b\b\b\b\b\b\b\b\b\b\b\b\b\b\b\b\b\b\b\b\b\b\b\r15625/15625 [==============================] - 135s 9ms/step - loss: 4.3212 - accuracy: 0.2132\n",
            "Epoch 54/100\n",
            "15622/15625 [============================>.] - ETA: 0s - loss: 4.3140 - accuracy: 0.2141\n",
            "Epoch 54: loss improved from 4.32119 to 4.31391, saving model to /content/drive/MyDrive/Deep Learning/task3/checkpoints/task3_checkpoints.0000054\n"
          ]
        },
        {
          "output_type": "stream",
          "name": "stderr",
          "text": [
            "WARNING:absl:Found untraced functions such as lstm_cell_layer_call_fn, lstm_cell_layer_call_and_return_conditional_losses, lstm_cell_1_layer_call_fn, lstm_cell_1_layer_call_and_return_conditional_losses while saving (showing 4 of 4). These functions will not be directly callable after loading.\n"
          ]
        },
        {
          "output_type": "stream",
          "name": "stdout",
          "text": [
            "\b\b\b\b\b\b\b\b\b\b\b\b\b\b\b\b\b\b\b\b\b\b\b\b\b\b\b\b\b\b\b\b\b\b\b\b\b\b\b\b\b\b\b\b\b\b\b\b\b\b\b\b\b\b\b\b\b\b\b\b\b\b\b\b\b\b\b\b\b\b\b\b\b\b\b\b\b\b\b\b\b\b\b\b\b\b\b\b\r15625/15625 [==============================] - 132s 8ms/step - loss: 4.3139 - accuracy: 0.2141\n",
            "Epoch 55/100\n",
            "15625/15625 [==============================] - ETA: 0s - loss: 4.3105 - accuracy: 0.2148\n",
            "Epoch 55: loss improved from 4.31391 to 4.31047, saving model to /content/drive/MyDrive/Deep Learning/task3/checkpoints/task3_checkpoints.0000055\n"
          ]
        },
        {
          "output_type": "stream",
          "name": "stderr",
          "text": [
            "WARNING:absl:Found untraced functions such as lstm_cell_layer_call_fn, lstm_cell_layer_call_and_return_conditional_losses, lstm_cell_1_layer_call_fn, lstm_cell_1_layer_call_and_return_conditional_losses while saving (showing 4 of 4). These functions will not be directly callable after loading.\n"
          ]
        },
        {
          "output_type": "stream",
          "name": "stdout",
          "text": [
            "\b\b\b\b\b\b\b\b\b\b\b\b\b\b\b\b\b\b\b\b\b\b\b\b\b\b\b\b\b\b\b\b\b\b\b\b\b\b\b\b\b\b\b\b\b\b\b\b\b\b\b\b\b\b\b\b\b\b\b\b\b\b\b\b\b\b\b\b\b\b\b\b\b\b\b\b\b\b\b\b\b\b\b\b\b\b\b\b\r15625/15625 [==============================] - 135s 9ms/step - loss: 4.3105 - accuracy: 0.2148\n",
            "Epoch 56/100\n",
            "15619/15625 [============================>.] - ETA: 0s - loss: 4.3065 - accuracy: 0.2145\n",
            "Epoch 56: loss improved from 4.31047 to 4.30657, saving model to /content/drive/MyDrive/Deep Learning/task3/checkpoints/task3_checkpoints.0000056\n"
          ]
        },
        {
          "output_type": "stream",
          "name": "stderr",
          "text": [
            "WARNING:absl:Found untraced functions such as lstm_cell_layer_call_fn, lstm_cell_layer_call_and_return_conditional_losses, lstm_cell_1_layer_call_fn, lstm_cell_1_layer_call_and_return_conditional_losses while saving (showing 4 of 4). These functions will not be directly callable after loading.\n"
          ]
        },
        {
          "output_type": "stream",
          "name": "stdout",
          "text": [
            "\b\b\b\b\b\b\b\b\b\b\b\b\b\b\b\b\b\b\b\b\b\b\b\b\b\b\b\b\b\b\b\b\b\b\b\b\b\b\b\b\b\b\b\b\b\b\b\b\b\b\b\b\b\b\b\b\b\b\b\b\b\b\b\b\b\b\b\b\b\b\b\b\b\b\b\b\b\b\b\b\b\b\b\b\b\b\b\b\r15625/15625 [==============================] - 132s 8ms/step - loss: 4.3066 - accuracy: 0.2145\n",
            "Epoch 57/100\n",
            "15624/15625 [============================>.] - ETA: 0s - loss: 4.3019 - accuracy: 0.2147\n",
            "Epoch 57: loss improved from 4.30657 to 4.30189, saving model to /content/drive/MyDrive/Deep Learning/task3/checkpoints/task3_checkpoints.0000057\n"
          ]
        },
        {
          "output_type": "stream",
          "name": "stderr",
          "text": [
            "WARNING:absl:Found untraced functions such as lstm_cell_layer_call_fn, lstm_cell_layer_call_and_return_conditional_losses, lstm_cell_1_layer_call_fn, lstm_cell_1_layer_call_and_return_conditional_losses while saving (showing 4 of 4). These functions will not be directly callable after loading.\n"
          ]
        },
        {
          "output_type": "stream",
          "name": "stdout",
          "text": [
            "\b\b\b\b\b\b\b\b\b\b\b\b\b\b\b\b\b\b\b\b\b\b\b\b\b\b\b\b\b\b\b\b\b\b\b\b\b\b\b\b\b\b\b\b\b\b\b\b\b\b\b\b\b\b\b\b\b\b\b\b\b\b\b\b\b\b\b\b\b\b\b\b\b\b\b\b\b\b\b\b\b\b\b\b\b\b\b\b\r15625/15625 [==============================] - 135s 9ms/step - loss: 4.3019 - accuracy: 0.2146\n",
            "Epoch 58/100\n",
            "15622/15625 [============================>.] - ETA: 0s - loss: 4.2969 - accuracy: 0.2159\n",
            "Epoch 58: loss improved from 4.30189 to 4.29700, saving model to /content/drive/MyDrive/Deep Learning/task3/checkpoints/task3_checkpoints.0000058\n"
          ]
        },
        {
          "output_type": "stream",
          "name": "stderr",
          "text": [
            "WARNING:absl:Found untraced functions such as lstm_cell_layer_call_fn, lstm_cell_layer_call_and_return_conditional_losses, lstm_cell_1_layer_call_fn, lstm_cell_1_layer_call_and_return_conditional_losses while saving (showing 4 of 4). These functions will not be directly callable after loading.\n"
          ]
        },
        {
          "output_type": "stream",
          "name": "stdout",
          "text": [
            "\b\b\b\b\b\b\b\b\b\b\b\b\b\b\b\b\b\b\b\b\b\b\b\b\b\b\b\b\b\b\b\b\b\b\b\b\b\b\b\b\b\b\b\b\b\b\b\b\b\b\b\b\b\b\b\b\b\b\b\b\b\b\b\b\b\b\b\b\b\b\b\b\b\b\b\b\b\b\b\b\b\b\b\b\b\b\b\b\r15625/15625 [==============================] - 133s 9ms/step - loss: 4.2970 - accuracy: 0.2159\n",
            "Epoch 59/100\n",
            "15620/15625 [============================>.] - ETA: 0s - loss: 4.2925 - accuracy: 0.2156\n",
            "Epoch 59: loss improved from 4.29700 to 4.29248, saving model to /content/drive/MyDrive/Deep Learning/task3/checkpoints/task3_checkpoints.0000059\n"
          ]
        },
        {
          "output_type": "stream",
          "name": "stderr",
          "text": [
            "WARNING:absl:Found untraced functions such as lstm_cell_layer_call_fn, lstm_cell_layer_call_and_return_conditional_losses, lstm_cell_1_layer_call_fn, lstm_cell_1_layer_call_and_return_conditional_losses while saving (showing 4 of 4). These functions will not be directly callable after loading.\n"
          ]
        },
        {
          "output_type": "stream",
          "name": "stdout",
          "text": [
            "\b\b\b\b\b\b\b\b\b\b\b\b\b\b\b\b\b\b\b\b\b\b\b\b\b\b\b\b\b\b\b\b\b\b\b\b\b\b\b\b\b\b\b\b\b\b\b\b\b\b\b\b\b\b\b\b\b\b\b\b\b\b\b\b\b\b\b\b\b\b\b\b\b\b\b\b\b\b\b\b\b\b\b\b\b\b\b\b\r15625/15625 [==============================] - 135s 9ms/step - loss: 4.2925 - accuracy: 0.2156\n",
            "Epoch 60/100\n",
            "15619/15625 [============================>.] - ETA: 0s - loss: 4.2903 - accuracy: 0.2162\n",
            "Epoch 60: loss improved from 4.29248 to 4.29037, saving model to /content/drive/MyDrive/Deep Learning/task3/checkpoints/task3_checkpoints.0000060\n"
          ]
        },
        {
          "output_type": "stream",
          "name": "stderr",
          "text": [
            "WARNING:absl:Found untraced functions such as lstm_cell_layer_call_fn, lstm_cell_layer_call_and_return_conditional_losses, lstm_cell_1_layer_call_fn, lstm_cell_1_layer_call_and_return_conditional_losses while saving (showing 4 of 4). These functions will not be directly callable after loading.\n"
          ]
        },
        {
          "output_type": "stream",
          "name": "stdout",
          "text": [
            "\b\b\b\b\b\b\b\b\b\b\b\b\b\b\b\b\b\b\b\b\b\b\b\b\b\b\b\b\b\b\b\b\b\b\b\b\b\b\b\b\b\b\b\b\b\b\b\b\b\b\b\b\b\b\b\b\b\b\b\b\b\b\b\b\b\b\b\b\b\b\b\b\b\b\b\b\b\b\b\b\b\b\b\b\b\b\b\b\r15625/15625 [==============================] - 135s 9ms/step - loss: 4.2904 - accuracy: 0.2162\n",
            "Epoch 61/100\n",
            "15621/15625 [============================>.] - ETA: 0s - loss: 4.2839 - accuracy: 0.2173\n",
            "Epoch 61: loss improved from 4.29037 to 4.28398, saving model to /content/drive/MyDrive/Deep Learning/task3/checkpoints/task3_checkpoints.0000061\n"
          ]
        },
        {
          "output_type": "stream",
          "name": "stderr",
          "text": [
            "WARNING:absl:Found untraced functions such as lstm_cell_layer_call_fn, lstm_cell_layer_call_and_return_conditional_losses, lstm_cell_1_layer_call_fn, lstm_cell_1_layer_call_and_return_conditional_losses while saving (showing 4 of 4). These functions will not be directly callable after loading.\n"
          ]
        },
        {
          "output_type": "stream",
          "name": "stdout",
          "text": [
            "\b\b\b\b\b\b\b\b\b\b\b\b\b\b\b\b\b\b\b\b\b\b\b\b\b\b\b\b\b\b\b\b\b\b\b\b\b\b\b\b\b\b\b\b\b\b\b\b\b\b\b\b\b\b\b\b\b\b\b\b\b\b\b\b\b\b\b\b\b\b\b\b\b\b\b\b\b\b\b\b\b\b\b\b\b\b\b\b\r15625/15625 [==============================] - 133s 9ms/step - loss: 4.2840 - accuracy: 0.2173\n",
            "Epoch 62/100\n",
            "15620/15625 [============================>.] - ETA: 0s - loss: 4.2792 - accuracy: 0.2174\n",
            "Epoch 62: loss improved from 4.28398 to 4.27922, saving model to /content/drive/MyDrive/Deep Learning/task3/checkpoints/task3_checkpoints.0000062\n"
          ]
        },
        {
          "output_type": "stream",
          "name": "stderr",
          "text": [
            "WARNING:absl:Found untraced functions such as lstm_cell_layer_call_fn, lstm_cell_layer_call_and_return_conditional_losses, lstm_cell_1_layer_call_fn, lstm_cell_1_layer_call_and_return_conditional_losses while saving (showing 4 of 4). These functions will not be directly callable after loading.\n"
          ]
        },
        {
          "output_type": "stream",
          "name": "stdout",
          "text": [
            "\b\b\b\b\b\b\b\b\b\b\b\b\b\b\b\b\b\b\b\b\b\b\b\b\b\b\b\b\b\b\b\b\b\b\b\b\b\b\b\b\b\b\b\b\b\b\b\b\b\b\b\b\b\b\b\b\b\b\b\b\b\b\b\b\b\b\b\b\b\b\b\b\b\b\b\b\b\b\b\b\b\b\b\b\b\b\b\b\r15625/15625 [==============================] - 133s 9ms/step - loss: 4.2792 - accuracy: 0.2173\n",
            "Epoch 63/100\n",
            "15619/15625 [============================>.] - ETA: 0s - loss: 4.2765 - accuracy: 0.2176\n",
            "Epoch 63: loss improved from 4.27922 to 4.27655, saving model to /content/drive/MyDrive/Deep Learning/task3/checkpoints/task3_checkpoints.0000063\n"
          ]
        },
        {
          "output_type": "stream",
          "name": "stderr",
          "text": [
            "WARNING:absl:Found untraced functions such as lstm_cell_layer_call_fn, lstm_cell_layer_call_and_return_conditional_losses, lstm_cell_1_layer_call_fn, lstm_cell_1_layer_call_and_return_conditional_losses while saving (showing 4 of 4). These functions will not be directly callable after loading.\n"
          ]
        },
        {
          "output_type": "stream",
          "name": "stdout",
          "text": [
            "\b\b\b\b\b\b\b\b\b\b\b\b\b\b\b\b\b\b\b\b\b\b\b\b\b\b\b\b\b\b\b\b\b\b\b\b\b\b\b\b\b\b\b\b\b\b\b\b\b\b\b\b\b\b\b\b\b\b\b\b\b\b\b\b\b\b\b\b\b\b\b\b\b\b\b\b\b\b\b\b\b\b\b\b\b\b\b\b\r15625/15625 [==============================] - 135s 9ms/step - loss: 4.2766 - accuracy: 0.2176\n",
            "Epoch 64/100\n",
            "15620/15625 [============================>.] - ETA: 0s - loss: 4.2768 - accuracy: 0.2176\n",
            "Epoch 64: loss did not improve from 4.27655\n",
            "15625/15625 [==============================] - 123s 8ms/step - loss: 4.2769 - accuracy: 0.2176\n",
            "Epoch 65/100\n",
            "15625/15625 [==============================] - ETA: 0s - loss: 4.2706 - accuracy: 0.2181\n",
            "Epoch 65: loss improved from 4.27655 to 4.27062, saving model to /content/drive/MyDrive/Deep Learning/task3/checkpoints/task3_checkpoints.0000065\n"
          ]
        },
        {
          "output_type": "stream",
          "name": "stderr",
          "text": [
            "WARNING:absl:Found untraced functions such as lstm_cell_layer_call_fn, lstm_cell_layer_call_and_return_conditional_losses, lstm_cell_1_layer_call_fn, lstm_cell_1_layer_call_and_return_conditional_losses while saving (showing 4 of 4). These functions will not be directly callable after loading.\n"
          ]
        },
        {
          "output_type": "stream",
          "name": "stdout",
          "text": [
            "\b\b\b\b\b\b\b\b\b\b\b\b\b\b\b\b\b\b\b\b\b\b\b\b\b\b\b\b\b\b\b\b\b\b\b\b\b\b\b\b\b\b\b\b\b\b\b\b\b\b\b\b\b\b\b\b\b\b\b\b\b\b\b\b\b\b\b\b\b\b\b\b\b\b\b\b\b\b\b\b\b\b\b\b\b\b\b\b\r15625/15625 [==============================] - 132s 8ms/step - loss: 4.2706 - accuracy: 0.2181\n",
            "Epoch 66/100\n",
            "15624/15625 [============================>.] - ETA: 0s - loss: 4.2691 - accuracy: 0.2181\n",
            "Epoch 66: loss improved from 4.27062 to 4.26912, saving model to /content/drive/MyDrive/Deep Learning/task3/checkpoints/task3_checkpoints.0000066\n"
          ]
        },
        {
          "output_type": "stream",
          "name": "stderr",
          "text": [
            "WARNING:absl:Found untraced functions such as lstm_cell_layer_call_fn, lstm_cell_layer_call_and_return_conditional_losses, lstm_cell_1_layer_call_fn, lstm_cell_1_layer_call_and_return_conditional_losses while saving (showing 4 of 4). These functions will not be directly callable after loading.\n"
          ]
        },
        {
          "output_type": "stream",
          "name": "stdout",
          "text": [
            "\b\b\b\b\b\b\b\b\b\b\b\b\b\b\b\b\b\b\b\b\b\b\b\b\b\b\b\b\b\b\b\b\b\b\b\b\b\b\b\b\b\b\b\b\b\b\b\b\b\b\b\b\b\b\b\b\b\b\b\b\b\b\b\b\b\b\b\b\b\b\b\b\b\b\b\b\b\b\b\b\b\b\b\b\b\b\b\b\r15625/15625 [==============================] - 135s 9ms/step - loss: 4.2691 - accuracy: 0.2181\n",
            "Epoch 67/100\n",
            "15623/15625 [============================>.] - ETA: 0s - loss: 4.2634 - accuracy: 0.2188\n",
            "Epoch 67: loss improved from 4.26912 to 4.26335, saving model to /content/drive/MyDrive/Deep Learning/task3/checkpoints/task3_checkpoints.0000067\n"
          ]
        },
        {
          "output_type": "stream",
          "name": "stderr",
          "text": [
            "WARNING:absl:Found untraced functions such as lstm_cell_layer_call_fn, lstm_cell_layer_call_and_return_conditional_losses, lstm_cell_1_layer_call_fn, lstm_cell_1_layer_call_and_return_conditional_losses while saving (showing 4 of 4). These functions will not be directly callable after loading.\n"
          ]
        },
        {
          "output_type": "stream",
          "name": "stdout",
          "text": [
            "\b\b\b\b\b\b\b\b\b\b\b\b\b\b\b\b\b\b\b\b\b\b\b\b\b\b\b\b\b\b\b\b\b\b\b\b\b\b\b\b\b\b\b\b\b\b\b\b\b\b\b\b\b\b\b\b\b\b\b\b\b\b\b\b\b\b\b\b\b\b\b\b\b\b\b\b\b\b\b\b\b\b\b\b\b\b\b\b\r15625/15625 [==============================] - 135s 9ms/step - loss: 4.2634 - accuracy: 0.2188\n",
            "Epoch 68/100\n",
            "15619/15625 [============================>.] - ETA: 0s - loss: 4.2600 - accuracy: 0.2189\n",
            "Epoch 68: loss improved from 4.26335 to 4.25988, saving model to /content/drive/MyDrive/Deep Learning/task3/checkpoints/task3_checkpoints.0000068\n"
          ]
        },
        {
          "output_type": "stream",
          "name": "stderr",
          "text": [
            "WARNING:absl:Found untraced functions such as lstm_cell_layer_call_fn, lstm_cell_layer_call_and_return_conditional_losses, lstm_cell_1_layer_call_fn, lstm_cell_1_layer_call_and_return_conditional_losses while saving (showing 4 of 4). These functions will not be directly callable after loading.\n"
          ]
        },
        {
          "output_type": "stream",
          "name": "stdout",
          "text": [
            "\b\b\b\b\b\b\b\b\b\b\b\b\b\b\b\b\b\b\b\b\b\b\b\b\b\b\b\b\b\b\b\b\b\b\b\b\b\b\b\b\b\b\b\b\b\b\b\b\b\b\b\b\b\b\b\b\b\b\b\b\b\b\b\b\b\b\b\b\b\b\b\b\b\b\b\b\b\b\b\b\b\b\b\b\b\b\b\b\r15625/15625 [==============================] - 133s 9ms/step - loss: 4.2599 - accuracy: 0.2190\n",
            "Epoch 69/100\n",
            "15622/15625 [============================>.] - ETA: 0s - loss: 4.2592 - accuracy: 0.2194\n",
            "Epoch 69: loss improved from 4.25988 to 4.25921, saving model to /content/drive/MyDrive/Deep Learning/task3/checkpoints/task3_checkpoints.0000069\n"
          ]
        },
        {
          "output_type": "stream",
          "name": "stderr",
          "text": [
            "WARNING:absl:Found untraced functions such as lstm_cell_layer_call_fn, lstm_cell_layer_call_and_return_conditional_losses, lstm_cell_1_layer_call_fn, lstm_cell_1_layer_call_and_return_conditional_losses while saving (showing 4 of 4). These functions will not be directly callable after loading.\n"
          ]
        },
        {
          "output_type": "stream",
          "name": "stdout",
          "text": [
            "\b\b\b\b\b\b\b\b\b\b\b\b\b\b\b\b\b\b\b\b\b\b\b\b\b\b\b\b\b\b\b\b\b\b\b\b\b\b\b\b\b\b\b\b\b\b\b\b\b\b\b\b\b\b\b\b\b\b\b\b\b\b\b\b\b\b\b\b\b\b\b\b\b\b\b\b\b\b\b\b\b\b\b\b\b\b\b\b\r15625/15625 [==============================] - 133s 8ms/step - loss: 4.2592 - accuracy: 0.2194\n",
            "Epoch 70/100\n",
            "15621/15625 [============================>.] - ETA: 0s - loss: 4.2546 - accuracy: 0.2195\n",
            "Epoch 70: loss improved from 4.25921 to 4.25462, saving model to /content/drive/MyDrive/Deep Learning/task3/checkpoints/task3_checkpoints.0000070\n"
          ]
        },
        {
          "output_type": "stream",
          "name": "stderr",
          "text": [
            "WARNING:absl:Found untraced functions such as lstm_cell_layer_call_fn, lstm_cell_layer_call_and_return_conditional_losses, lstm_cell_1_layer_call_fn, lstm_cell_1_layer_call_and_return_conditional_losses while saving (showing 4 of 4). These functions will not be directly callable after loading.\n"
          ]
        },
        {
          "output_type": "stream",
          "name": "stdout",
          "text": [
            "\b\b\b\b\b\b\b\b\b\b\b\b\b\b\b\b\b\b\b\b\b\b\b\b\b\b\b\b\b\b\b\b\b\b\b\b\b\b\b\b\b\b\b\b\b\b\b\b\b\b\b\b\b\b\b\b\b\b\b\b\b\b\b\b\b\b\b\b\b\b\b\b\b\b\b\b\b\b\b\b\b\b\b\b\b\b\b\b\r15625/15625 [==============================] - 135s 9ms/step - loss: 4.2546 - accuracy: 0.2195\n",
            "Epoch 71/100\n",
            "15622/15625 [============================>.] - ETA: 0s - loss: 4.2527 - accuracy: 0.2200\n",
            "Epoch 71: loss improved from 4.25462 to 4.25261, saving model to /content/drive/MyDrive/Deep Learning/task3/checkpoints/task3_checkpoints.0000071\n"
          ]
        },
        {
          "output_type": "stream",
          "name": "stderr",
          "text": [
            "WARNING:absl:Found untraced functions such as lstm_cell_layer_call_fn, lstm_cell_layer_call_and_return_conditional_losses, lstm_cell_1_layer_call_fn, lstm_cell_1_layer_call_and_return_conditional_losses while saving (showing 4 of 4). These functions will not be directly callable after loading.\n"
          ]
        },
        {
          "output_type": "stream",
          "name": "stdout",
          "text": [
            "\b\b\b\b\b\b\b\b\b\b\b\b\b\b\b\b\b\b\b\b\b\b\b\b\b\b\b\b\b\b\b\b\b\b\b\b\b\b\b\b\b\b\b\b\b\b\b\b\b\b\b\b\b\b\b\b\b\b\b\b\b\b\b\b\b\b\b\b\b\b\b\b\b\b\b\b\b\b\b\b\b\b\b\b\b\b\b\b\r15625/15625 [==============================] - 132s 8ms/step - loss: 4.2526 - accuracy: 0.2200\n",
            "Epoch 72/100\n",
            "15621/15625 [============================>.] - ETA: 0s - loss: 4.2518 - accuracy: 0.2204\n",
            "Epoch 72: loss improved from 4.25261 to 4.25172, saving model to /content/drive/MyDrive/Deep Learning/task3/checkpoints/task3_checkpoints.0000072\n"
          ]
        },
        {
          "output_type": "stream",
          "name": "stderr",
          "text": [
            "WARNING:absl:Found untraced functions such as lstm_cell_layer_call_fn, lstm_cell_layer_call_and_return_conditional_losses, lstm_cell_1_layer_call_fn, lstm_cell_1_layer_call_and_return_conditional_losses while saving (showing 4 of 4). These functions will not be directly callable after loading.\n"
          ]
        },
        {
          "output_type": "stream",
          "name": "stdout",
          "text": [
            "\b\b\b\b\b\b\b\b\b\b\b\b\b\b\b\b\b\b\b\b\b\b\b\b\b\b\b\b\b\b\b\b\b\b\b\b\b\b\b\b\b\b\b\b\b\b\b\b\b\b\b\b\b\b\b\b\b\b\b\b\b\b\b\b\b\b\b\b\b\b\b\b\b\b\b\b\b\b\b\b\b\b\b\b\b\b\b\b\r15625/15625 [==============================] - 135s 9ms/step - loss: 4.2517 - accuracy: 0.2204\n",
            "Epoch 73/100\n",
            "15621/15625 [============================>.] - ETA: 0s - loss: 4.2459 - accuracy: 0.2205\n",
            "Epoch 73: loss improved from 4.25172 to 4.24594, saving model to /content/drive/MyDrive/Deep Learning/task3/checkpoints/task3_checkpoints.0000073\n"
          ]
        },
        {
          "output_type": "stream",
          "name": "stderr",
          "text": [
            "WARNING:absl:Found untraced functions such as lstm_cell_layer_call_fn, lstm_cell_layer_call_and_return_conditional_losses, lstm_cell_1_layer_call_fn, lstm_cell_1_layer_call_and_return_conditional_losses while saving (showing 4 of 4). These functions will not be directly callable after loading.\n"
          ]
        },
        {
          "output_type": "stream",
          "name": "stdout",
          "text": [
            "\b\b\b\b\b\b\b\b\b\b\b\b\b\b\b\b\b\b\b\b\b\b\b\b\b\b\b\b\b\b\b\b\b\b\b\b\b\b\b\b\b\b\b\b\b\b\b\b\b\b\b\b\b\b\b\b\b\b\b\b\b\b\b\b\b\b\b\b\b\b\b\b\b\b\b\b\b\b\b\b\b\b\b\b\b\b\b\b\r15625/15625 [==============================] - 133s 8ms/step - loss: 4.2459 - accuracy: 0.2205\n",
            "Epoch 74/100\n",
            "15623/15625 [============================>.] - ETA: 0s - loss: 4.2438 - accuracy: 0.2210\n",
            "Epoch 74: loss improved from 4.24594 to 4.24377, saving model to /content/drive/MyDrive/Deep Learning/task3/checkpoints/task3_checkpoints.0000074\n"
          ]
        },
        {
          "output_type": "stream",
          "name": "stderr",
          "text": [
            "WARNING:absl:Found untraced functions such as lstm_cell_layer_call_fn, lstm_cell_layer_call_and_return_conditional_losses, lstm_cell_1_layer_call_fn, lstm_cell_1_layer_call_and_return_conditional_losses while saving (showing 4 of 4). These functions will not be directly callable after loading.\n"
          ]
        },
        {
          "output_type": "stream",
          "name": "stdout",
          "text": [
            "\b\b\b\b\b\b\b\b\b\b\b\b\b\b\b\b\b\b\b\b\b\b\b\b\b\b\b\b\b\b\b\b\b\b\b\b\b\b\b\b\b\b\b\b\b\b\b\b\b\b\b\b\b\b\b\b\b\b\b\b\b\b\b\b\b\b\b\b\b\b\b\b\b\b\b\b\b\b\b\b\b\b\b\b\b\b\b\b\r15625/15625 [==============================] - 135s 9ms/step - loss: 4.2438 - accuracy: 0.2210\n",
            "Epoch 75/100\n",
            "15620/15625 [============================>.] - ETA: 0s - loss: 4.2417 - accuracy: 0.2214\n",
            "Epoch 75: loss improved from 4.24377 to 4.24166, saving model to /content/drive/MyDrive/Deep Learning/task3/checkpoints/task3_checkpoints.0000075\n"
          ]
        },
        {
          "output_type": "stream",
          "name": "stderr",
          "text": [
            "WARNING:absl:Found untraced functions such as lstm_cell_layer_call_fn, lstm_cell_layer_call_and_return_conditional_losses, lstm_cell_1_layer_call_fn, lstm_cell_1_layer_call_and_return_conditional_losses while saving (showing 4 of 4). These functions will not be directly callable after loading.\n"
          ]
        },
        {
          "output_type": "stream",
          "name": "stdout",
          "text": [
            "\b\b\b\b\b\b\b\b\b\b\b\b\b\b\b\b\b\b\b\b\b\b\b\b\b\b\b\b\b\b\b\b\b\b\b\b\b\b\b\b\b\b\b\b\b\b\b\b\b\b\b\b\b\b\b\b\b\b\b\b\b\b\b\b\b\b\b\b\b\b\b\b\b\b\b\b\b\b\b\b\b\b\b\b\b\b\b\b\r15625/15625 [==============================] - 135s 9ms/step - loss: 4.2417 - accuracy: 0.2214\n",
            "Epoch 76/100\n",
            "15622/15625 [============================>.] - ETA: 0s - loss: 4.2435 - accuracy: 0.2212\n",
            "Epoch 76: loss did not improve from 4.24166\n",
            "15625/15625 [==============================] - 123s 8ms/step - loss: 4.2435 - accuracy: 0.2212\n",
            "Epoch 77/100\n",
            "15624/15625 [============================>.] - ETA: 0s - loss: 4.2409 - accuracy: 0.2217\n",
            "Epoch 77: loss improved from 4.24166 to 4.24091, saving model to /content/drive/MyDrive/Deep Learning/task3/checkpoints/task3_checkpoints.0000077\n"
          ]
        },
        {
          "output_type": "stream",
          "name": "stderr",
          "text": [
            "WARNING:absl:Found untraced functions such as lstm_cell_layer_call_fn, lstm_cell_layer_call_and_return_conditional_losses, lstm_cell_1_layer_call_fn, lstm_cell_1_layer_call_and_return_conditional_losses while saving (showing 4 of 4). These functions will not be directly callable after loading.\n"
          ]
        },
        {
          "output_type": "stream",
          "name": "stdout",
          "text": [
            "\b\b\b\b\b\b\b\b\b\b\b\b\b\b\b\b\b\b\b\b\b\b\b\b\b\b\b\b\b\b\b\b\b\b\b\b\b\b\b\b\b\b\b\b\b\b\b\b\b\b\b\b\b\b\b\b\b\b\b\b\b\b\b\b\b\b\b\b\b\b\b\b\b\b\b\b\b\b\b\b\b\b\b\b\b\b\b\b\r15625/15625 [==============================] - 133s 9ms/step - loss: 4.2409 - accuracy: 0.2217\n",
            "Epoch 78/100\n",
            "15622/15625 [============================>.] - ETA: 0s - loss: 4.2398 - accuracy: 0.2218\n",
            "Epoch 78: loss improved from 4.24091 to 4.23977, saving model to /content/drive/MyDrive/Deep Learning/task3/checkpoints/task3_checkpoints.0000078\n"
          ]
        },
        {
          "output_type": "stream",
          "name": "stderr",
          "text": [
            "WARNING:absl:Found untraced functions such as lstm_cell_layer_call_fn, lstm_cell_layer_call_and_return_conditional_losses, lstm_cell_1_layer_call_fn, lstm_cell_1_layer_call_and_return_conditional_losses while saving (showing 4 of 4). These functions will not be directly callable after loading.\n"
          ]
        },
        {
          "output_type": "stream",
          "name": "stdout",
          "text": [
            "\b\b\b\b\b\b\b\b\b\b\b\b\b\b\b\b\b\b\b\b\b\b\b\b\b\b\b\b\b\b\b\b\b\b\b\b\b\b\b\b\b\b\b\b\b\b\b\b\b\b\b\b\b\b\b\b\b\b\b\b\b\b\b\b\b\b\b\b\b\b\b\b\b\b\b\b\b\b\b\b\b\b\b\b\b\b\b\b\r15625/15625 [==============================] - 134s 9ms/step - loss: 4.2398 - accuracy: 0.2218\n",
            "Epoch 79/100\n",
            "15624/15625 [============================>.] - ETA: 0s - loss: 4.2350 - accuracy: 0.2214\n",
            "Epoch 79: loss improved from 4.23977 to 4.23497, saving model to /content/drive/MyDrive/Deep Learning/task3/checkpoints/task3_checkpoints.0000079\n"
          ]
        },
        {
          "output_type": "stream",
          "name": "stderr",
          "text": [
            "WARNING:absl:Found untraced functions such as lstm_cell_layer_call_fn, lstm_cell_layer_call_and_return_conditional_losses, lstm_cell_1_layer_call_fn, lstm_cell_1_layer_call_and_return_conditional_losses while saving (showing 4 of 4). These functions will not be directly callable after loading.\n"
          ]
        },
        {
          "output_type": "stream",
          "name": "stdout",
          "text": [
            "\b\b\b\b\b\b\b\b\b\b\b\b\b\b\b\b\b\b\b\b\b\b\b\b\b\b\b\b\b\b\b\b\b\b\b\b\b\b\b\b\b\b\b\b\b\b\b\b\b\b\b\b\b\b\b\b\b\b\b\b\b\b\b\b\b\b\b\b\b\b\b\b\b\b\b\b\b\b\b\b\b\b\b\b\b\b\b\b\r15625/15625 [==============================] - 136s 9ms/step - loss: 4.2350 - accuracy: 0.2214\n",
            "Epoch 80/100\n",
            "15621/15625 [============================>.] - ETA: 0s - loss: 4.2362 - accuracy: 0.2222\n",
            "Epoch 80: loss did not improve from 4.23497\n",
            "15625/15625 [==============================] - 123s 8ms/step - loss: 4.2361 - accuracy: 0.2222\n",
            "Epoch 81/100\n",
            "15625/15625 [==============================] - ETA: 0s - loss: 4.2312 - accuracy: 0.2227\n",
            "Epoch 81: loss improved from 4.23497 to 4.23118, saving model to /content/drive/MyDrive/Deep Learning/task3/checkpoints/task3_checkpoints.0000081\n"
          ]
        },
        {
          "output_type": "stream",
          "name": "stderr",
          "text": [
            "WARNING:absl:Found untraced functions such as lstm_cell_layer_call_fn, lstm_cell_layer_call_and_return_conditional_losses, lstm_cell_1_layer_call_fn, lstm_cell_1_layer_call_and_return_conditional_losses while saving (showing 4 of 4). These functions will not be directly callable after loading.\n"
          ]
        },
        {
          "output_type": "stream",
          "name": "stdout",
          "text": [
            "\b\b\b\b\b\b\b\b\b\b\b\b\b\b\b\b\b\b\b\b\b\b\b\b\b\b\b\b\b\b\b\b\b\b\b\b\b\b\b\b\b\b\b\b\b\b\b\b\b\b\b\b\b\b\b\b\b\b\b\b\b\b\b\b\b\b\b\b\b\b\b\b\b\b\b\b\b\b\b\b\b\b\b\b\b\b\b\b\r15625/15625 [==============================] - 133s 9ms/step - loss: 4.2312 - accuracy: 0.2227\n",
            "Epoch 82/100\n",
            "15619/15625 [============================>.] - ETA: 0s - loss: 4.2322 - accuracy: 0.2224\n",
            "Epoch 82: loss did not improve from 4.23118\n",
            "15625/15625 [==============================] - 123s 8ms/step - loss: 4.2323 - accuracy: 0.2224\n",
            "Epoch 83/100\n",
            "15624/15625 [============================>.] - ETA: 0s - loss: 4.2354 - accuracy: 0.2226\n",
            "Epoch 83: loss did not improve from 4.23118\n",
            "15625/15625 [==============================] - 122s 8ms/step - loss: 4.2354 - accuracy: 0.2226\n",
            "Epoch 84/100\n",
            "15622/15625 [============================>.] - ETA: 0s - loss: 4.2300 - accuracy: 0.2231\n",
            "Epoch 84: loss improved from 4.23118 to 4.22994, saving model to /content/drive/MyDrive/Deep Learning/task3/checkpoints/task3_checkpoints.0000084\n"
          ]
        },
        {
          "output_type": "stream",
          "name": "stderr",
          "text": [
            "WARNING:absl:Found untraced functions such as lstm_cell_layer_call_fn, lstm_cell_layer_call_and_return_conditional_losses, lstm_cell_1_layer_call_fn, lstm_cell_1_layer_call_and_return_conditional_losses while saving (showing 4 of 4). These functions will not be directly callable after loading.\n"
          ]
        },
        {
          "output_type": "stream",
          "name": "stdout",
          "text": [
            "\b\b\b\b\b\b\b\b\b\b\b\b\b\b\b\b\b\b\b\b\b\b\b\b\b\b\b\b\b\b\b\b\b\b\b\b\b\b\b\b\b\b\b\b\b\b\b\b\b\b\b\b\b\b\b\b\b\b\b\b\b\b\b\b\b\b\b\b\b\b\b\b\b\b\b\b\b\b\b\b\b\b\b\b\b\b\b\b\r15625/15625 [==============================] - 135s 9ms/step - loss: 4.2299 - accuracy: 0.2231\n",
            "Epoch 85/100\n",
            "15623/15625 [============================>.] - ETA: 0s - loss: 4.2246 - accuracy: 0.2238\n",
            "Epoch 85: loss improved from 4.22994 to 4.22462, saving model to /content/drive/MyDrive/Deep Learning/task3/checkpoints/task3_checkpoints.0000085\n"
          ]
        },
        {
          "output_type": "stream",
          "name": "stderr",
          "text": [
            "WARNING:absl:Found untraced functions such as lstm_cell_layer_call_fn, lstm_cell_layer_call_and_return_conditional_losses, lstm_cell_1_layer_call_fn, lstm_cell_1_layer_call_and_return_conditional_losses while saving (showing 4 of 4). These functions will not be directly callable after loading.\n"
          ]
        },
        {
          "output_type": "stream",
          "name": "stdout",
          "text": [
            "\b\b\b\b\b\b\b\b\b\b\b\b\b\b\b\b\b\b\b\b\b\b\b\b\b\b\b\b\b\b\b\b\b\b\b\b\b\b\b\b\b\b\b\b\b\b\b\b\b\b\b\b\b\b\b\b\b\b\b\b\b\b\b\b\b\b\b\b\b\b\b\b\b\b\b\b\b\b\b\b\b\b\b\b\b\b\b\b\r15625/15625 [==============================] - 133s 8ms/step - loss: 4.2246 - accuracy: 0.2238\n",
            "Epoch 86/100\n",
            "15620/15625 [============================>.] - ETA: 0s - loss: 4.2268 - accuracy: 0.2233\n",
            "Epoch 86: loss did not improve from 4.22462\n",
            "15625/15625 [==============================] - 122s 8ms/step - loss: 4.2266 - accuracy: 0.2234\n",
            "Epoch 87/100\n",
            "15619/15625 [============================>.] - ETA: 0s - loss: 4.2250 - accuracy: 0.2233\n",
            "Epoch 87: loss did not improve from 4.22462\n",
            "15625/15625 [==============================] - 122s 8ms/step - loss: 4.2248 - accuracy: 0.2233\n",
            "Epoch 88/100\n",
            "15619/15625 [============================>.] - ETA: 0s - loss: 4.2221 - accuracy: 0.2237\n",
            "Epoch 88: loss improved from 4.22462 to 4.22219, saving model to /content/drive/MyDrive/Deep Learning/task3/checkpoints/task3_checkpoints.0000088\n"
          ]
        },
        {
          "output_type": "stream",
          "name": "stderr",
          "text": [
            "WARNING:absl:Found untraced functions such as lstm_cell_layer_call_fn, lstm_cell_layer_call_and_return_conditional_losses, lstm_cell_1_layer_call_fn, lstm_cell_1_layer_call_and_return_conditional_losses while saving (showing 4 of 4). These functions will not be directly callable after loading.\n"
          ]
        },
        {
          "output_type": "stream",
          "name": "stdout",
          "text": [
            "\b\b\b\b\b\b\b\b\b\b\b\b\b\b\b\b\b\b\b\b\b\b\b\b\b\b\b\b\b\b\b\b\b\b\b\b\b\b\b\b\b\b\b\b\b\b\b\b\b\b\b\b\b\b\b\b\b\b\b\b\b\b\b\b\b\b\b\b\b\b\b\b\b\b\b\b\b\b\b\b\b\b\b\b\b\b\b\b\r15625/15625 [==============================] - 135s 9ms/step - loss: 4.2222 - accuracy: 0.2237\n",
            "Epoch 89/100\n",
            "15621/15625 [============================>.] - ETA: 0s - loss: 4.2254 - accuracy: 0.2235\n",
            "Epoch 89: loss did not improve from 4.22219\n",
            "15625/15625 [==============================] - 122s 8ms/step - loss: 4.2254 - accuracy: 0.2236\n",
            "Epoch 90/100\n",
            "15622/15625 [============================>.] - ETA: 0s - loss: 4.2206 - accuracy: 0.2236\n",
            "Epoch 90: loss improved from 4.22219 to 4.22052, saving model to /content/drive/MyDrive/Deep Learning/task3/checkpoints/task3_checkpoints.0000090\n"
          ]
        },
        {
          "output_type": "stream",
          "name": "stderr",
          "text": [
            "WARNING:absl:Found untraced functions such as lstm_cell_layer_call_fn, lstm_cell_layer_call_and_return_conditional_losses, lstm_cell_1_layer_call_fn, lstm_cell_1_layer_call_and_return_conditional_losses while saving (showing 4 of 4). These functions will not be directly callable after loading.\n"
          ]
        },
        {
          "output_type": "stream",
          "name": "stdout",
          "text": [
            "\b\b\b\b\b\b\b\b\b\b\b\b\b\b\b\b\b\b\b\b\b\b\b\b\b\b\b\b\b\b\b\b\b\b\b\b\b\b\b\b\b\b\b\b\b\b\b\b\b\b\b\b\b\b\b\b\b\b\b\b\b\b\b\b\b\b\b\b\b\b\b\b\b\b\b\b\b\b\b\b\b\b\b\b\b\b\b\b\r15625/15625 [==============================] - 133s 9ms/step - loss: 4.2205 - accuracy: 0.2236\n",
            "Epoch 91/100\n",
            "15619/15625 [============================>.] - ETA: 0s - loss: 4.2241 - accuracy: 0.2241\n",
            "Epoch 91: loss did not improve from 4.22052\n",
            "15625/15625 [==============================] - 122s 8ms/step - loss: 4.2240 - accuracy: 0.2241\n",
            "Epoch 92/100\n",
            "15621/15625 [============================>.] - ETA: 0s - loss: 4.2162 - accuracy: 0.2241\n",
            "Epoch 92: loss improved from 4.22052 to 4.21619, saving model to /content/drive/MyDrive/Deep Learning/task3/checkpoints/task3_checkpoints.0000092\n"
          ]
        },
        {
          "output_type": "stream",
          "name": "stderr",
          "text": [
            "WARNING:absl:Found untraced functions such as lstm_cell_layer_call_fn, lstm_cell_layer_call_and_return_conditional_losses, lstm_cell_1_layer_call_fn, lstm_cell_1_layer_call_and_return_conditional_losses while saving (showing 4 of 4). These functions will not be directly callable after loading.\n"
          ]
        },
        {
          "output_type": "stream",
          "name": "stdout",
          "text": [
            "\b\b\b\b\b\b\b\b\b\b\b\b\b\b\b\b\b\b\b\b\b\b\b\b\b\b\b\b\b\b\b\b\b\b\b\b\b\b\b\b\b\b\b\b\b\b\b\b\b\b\b\b\b\b\b\b\b\b\b\b\b\b\b\b\b\b\b\b\b\b\b\b\b\b\b\b\b\b\b\b\b\b\b\b\b\b\b\b\r15625/15625 [==============================] - 135s 9ms/step - loss: 4.2162 - accuracy: 0.2240\n",
            "Epoch 93/100\n",
            "15622/15625 [============================>.] - ETA: 0s - loss: 4.2151 - accuracy: 0.2241\n",
            "Epoch 93: loss improved from 4.21619 to 4.21508, saving model to /content/drive/MyDrive/Deep Learning/task3/checkpoints/task3_checkpoints.0000093\n"
          ]
        },
        {
          "output_type": "stream",
          "name": "stderr",
          "text": [
            "WARNING:absl:Found untraced functions such as lstm_cell_layer_call_fn, lstm_cell_layer_call_and_return_conditional_losses, lstm_cell_1_layer_call_fn, lstm_cell_1_layer_call_and_return_conditional_losses while saving (showing 4 of 4). These functions will not be directly callable after loading.\n"
          ]
        },
        {
          "output_type": "stream",
          "name": "stdout",
          "text": [
            "\b\b\b\b\b\b\b\b\b\b\b\b\b\b\b\b\b\b\b\b\b\b\b\b\b\b\b\b\b\b\b\b\b\b\b\b\b\b\b\b\b\b\b\b\b\b\b\b\b\b\b\b\b\b\b\b\b\b\b\b\b\b\b\b\b\b\b\b\b\b\b\b\b\b\b\b\b\b\b\b\b\b\b\b\b\b\b\b\r15625/15625 [==============================] - 133s 8ms/step - loss: 4.2151 - accuracy: 0.2241\n",
            "Epoch 94/100\n",
            "15623/15625 [============================>.] - ETA: 0s - loss: 4.2139 - accuracy: 0.2246\n",
            "Epoch 94: loss improved from 4.21508 to 4.21388, saving model to /content/drive/MyDrive/Deep Learning/task3/checkpoints/task3_checkpoints.0000094\n"
          ]
        },
        {
          "output_type": "stream",
          "name": "stderr",
          "text": [
            "WARNING:absl:Found untraced functions such as lstm_cell_layer_call_fn, lstm_cell_layer_call_and_return_conditional_losses, lstm_cell_1_layer_call_fn, lstm_cell_1_layer_call_and_return_conditional_losses while saving (showing 4 of 4). These functions will not be directly callable after loading.\n"
          ]
        },
        {
          "output_type": "stream",
          "name": "stdout",
          "text": [
            "\b\b\b\b\b\b\b\b\b\b\b\b\b\b\b\b\b\b\b\b\b\b\b\b\b\b\b\b\b\b\b\b\b\b\b\b\b\b\b\b\b\b\b\b\b\b\b\b\b\b\b\b\b\b\b\b\b\b\b\b\b\b\b\b\b\b\b\b\b\b\b\b\b\b\b\b\b\b\b\b\b\b\b\b\b\b\b\b\r15625/15625 [==============================] - 135s 9ms/step - loss: 4.2139 - accuracy: 0.2246\n",
            "Epoch 95/100\n",
            "15623/15625 [============================>.] - ETA: 0s - loss: 4.2190 - accuracy: 0.2244\n",
            "Epoch 95: loss did not improve from 4.21388\n",
            "15625/15625 [==============================] - 123s 8ms/step - loss: 4.2190 - accuracy: 0.2244\n",
            "Epoch 96/100\n",
            "15622/15625 [============================>.] - ETA: 0s - loss: 4.2141 - accuracy: 0.2244\n",
            "Epoch 96: loss did not improve from 4.21388\n",
            "15625/15625 [==============================] - 122s 8ms/step - loss: 4.2141 - accuracy: 0.2244\n",
            "Epoch 97/100\n",
            "15619/15625 [============================>.] - ETA: 0s - loss: 4.2123 - accuracy: 0.2244\n",
            "Epoch 97: loss improved from 4.21388 to 4.21238, saving model to /content/drive/MyDrive/Deep Learning/task3/checkpoints/task3_checkpoints.0000097\n"
          ]
        },
        {
          "output_type": "stream",
          "name": "stderr",
          "text": [
            "WARNING:absl:Found untraced functions such as lstm_cell_layer_call_fn, lstm_cell_layer_call_and_return_conditional_losses, lstm_cell_1_layer_call_fn, lstm_cell_1_layer_call_and_return_conditional_losses while saving (showing 4 of 4). These functions will not be directly callable after loading.\n"
          ]
        },
        {
          "output_type": "stream",
          "name": "stdout",
          "text": [
            "\b\b\b\b\b\b\b\b\b\b\b\b\b\b\b\b\b\b\b\b\b\b\b\b\b\b\b\b\b\b\b\b\b\b\b\b\b\b\b\b\b\b\b\b\b\b\b\b\b\b\b\b\b\b\b\b\b\b\b\b\b\b\b\b\b\b\b\b\b\b\b\b\b\b\b\b\b\b\b\b\b\b\b\b\b\b\b\b\r15625/15625 [==============================] - 135s 9ms/step - loss: 4.2124 - accuracy: 0.2244\n",
            "Epoch 98/100\n",
            "15621/15625 [============================>.] - ETA: 0s - loss: 4.2124 - accuracy: 0.2251\n",
            "Epoch 98: loss did not improve from 4.21238\n",
            "15625/15625 [==============================] - 123s 8ms/step - loss: 4.2124 - accuracy: 0.2251\n",
            "Epoch 99/100\n",
            "15620/15625 [============================>.] - ETA: 0s - loss: 4.2085 - accuracy: 0.2255\n",
            "Epoch 99: loss improved from 4.21238 to 4.20856, saving model to /content/drive/MyDrive/Deep Learning/task3/checkpoints/task3_checkpoints.0000099\n"
          ]
        },
        {
          "output_type": "stream",
          "name": "stderr",
          "text": [
            "WARNING:absl:Found untraced functions such as lstm_cell_layer_call_fn, lstm_cell_layer_call_and_return_conditional_losses, lstm_cell_1_layer_call_fn, lstm_cell_1_layer_call_and_return_conditional_losses while saving (showing 4 of 4). These functions will not be directly callable after loading.\n"
          ]
        },
        {
          "output_type": "stream",
          "name": "stdout",
          "text": [
            "\b\b\b\b\b\b\b\b\b\b\b\b\b\b\b\b\b\b\b\b\b\b\b\b\b\b\b\b\b\b\b\b\b\b\b\b\b\b\b\b\b\b\b\b\b\b\b\b\b\b\b\b\b\b\b\b\b\b\b\b\b\b\b\b\b\b\b\b\b\b\b\b\b\b\b\b\b\b\b\b\b\b\b\b\b\b\b\b\r15625/15625 [==============================] - 133s 9ms/step - loss: 4.2086 - accuracy: 0.2255\n",
            "Epoch 100/100\n",
            "15620/15625 [============================>.] - ETA: 0s - loss: 4.2060 - accuracy: 0.2254\n",
            "Epoch 100: loss improved from 4.20856 to 4.20606, saving model to /content/drive/MyDrive/Deep Learning/task3/checkpoints/task3_checkpoints.0000100\n"
          ]
        },
        {
          "output_type": "stream",
          "name": "stderr",
          "text": [
            "WARNING:absl:Found untraced functions such as lstm_cell_layer_call_fn, lstm_cell_layer_call_and_return_conditional_losses, lstm_cell_1_layer_call_fn, lstm_cell_1_layer_call_and_return_conditional_losses while saving (showing 4 of 4). These functions will not be directly callable after loading.\n"
          ]
        },
        {
          "output_type": "stream",
          "name": "stdout",
          "text": [
            "\b\b\b\b\b\b\b\b\b\b\b\b\b\b\b\b\b\b\b\b\b\b\b\b\b\b\b\b\b\b\b\b\b\b\b\b\b\b\b\b\b\b\b\b\b\b\b\b\b\b\b\b\b\b\b\b\b\b\b\b\b\b\b\b\b\b\b\b\b\b\b\b\b\b\b\b\b\b\b\b\b\b\b\b\b\b\b\b\r15625/15625 [==============================] - 133s 8ms/step - loss: 4.2061 - accuracy: 0.2254\n"
          ]
        }
      ],
      "source": [
        "# Compiling the model with adam optimizer and training it for 100 epochs with a batch size of 32\n",
        "model.compile(loss='sparse_categorical_crossentropy', optimizer = 'adam', metrics = ['accuracy'])\n",
        "model.fit(X, y, batch_size = 32, epochs=100, callbacks=[es,model_checkpoint_callback])\n",
        "model.save('/content/drive/MyDrive/Deep Learning/task3/model_weights.h5')"
      ]
    },
    {
      "cell_type": "code",
      "source": [
        "#model loaded from the previous training. Training is resumed \n",
        "model = load_model('/content/drive/MyDrive/Deep Learning/task3/model_weights.h5')\n",
        "# Load the checkpoints\n",
        "weight_file = \"/content/drive/MyDrive/Deep Learning/task3/checkpoints/task3_checkpoints.0000101\"\n",
        "model.load_weights(weight_file).expect_partial()"
      ],
      "metadata": {
        "colab": {
          "base_uri": "https://localhost:8080/"
        },
        "id": "VVhO8lbIa68e",
        "outputId": "f8fc7271-4ab8-4e87-f9a3-13bebe80391f"
      },
      "execution_count": 38,
      "outputs": [
        {
          "output_type": "execute_result",
          "data": {
            "text/plain": [
              "<tensorflow.python.checkpoint.checkpoint.CheckpointLoadStatus at 0x7fafbc2d12b0>"
            ]
          },
          "metadata": {},
          "execution_count": 38
        }
      ]
    },
    {
      "cell_type": "code",
      "source": [
        "#Resuming the model training by loading the previous weights\n",
        "model.fit(X,y, epochs=150, batch_size = 32 ,initial_epoch=101, callbacks=[es, model_checkpoint_callback])"
      ],
      "metadata": {
        "id": "olP3sg47dVSw",
        "colab": {
          "base_uri": "https://localhost:8080/"
        },
        "outputId": "576383cb-eb0f-455a-b936-eb2e5e88dc51"
      },
      "execution_count": null,
      "outputs": [
        {
          "output_type": "stream",
          "name": "stdout",
          "text": [
            "Epoch 102/150\n",
            "15624/15625 [============================>.] - ETA: 0s - loss: 4.2095 - accuracy: 0.2252\n",
            "Epoch 102: loss improved from inf to 4.20946, saving model to /content/drive/MyDrive/Deep Learning/task3/checkpoints/task3_checkpoints.0000102\n"
          ]
        },
        {
          "output_type": "stream",
          "name": "stderr",
          "text": [
            "WARNING:absl:Found untraced functions such as lstm_cell_2_layer_call_fn, lstm_cell_2_layer_call_and_return_conditional_losses, lstm_cell_3_layer_call_fn, lstm_cell_3_layer_call_and_return_conditional_losses while saving (showing 4 of 4). These functions will not be directly callable after loading.\n"
          ]
        },
        {
          "output_type": "stream",
          "name": "stdout",
          "text": [
            "\b\b\b\b\b\b\b\b\b\b\b\b\b\b\b\b\b\b\b\b\b\b\b\b\b\b\b\b\b\b\b\b\b\b\b\b\b\b\b\b\b\b\b\b\b\b\b\b\b\b\b\b\b\b\b\b\b\b\b\b\b\b\b\b\b\b\b\b\b\b\b\b\b\b\b\b\b\b\b\b\b\b\b\b\b\b\b\b\r15625/15625 [==============================] - 156s 9ms/step - loss: 4.2095 - accuracy: 0.2252\n",
            "Epoch 103/150\n",
            "15624/15625 [============================>.] - ETA: 0s - loss: 4.2042 - accuracy: 0.2259\n",
            "Epoch 103: loss improved from 4.20946 to 4.20423, saving model to /content/drive/MyDrive/Deep Learning/task3/checkpoints/task3_checkpoints.0000103\n"
          ]
        },
        {
          "output_type": "stream",
          "name": "stderr",
          "text": [
            "WARNING:absl:Found untraced functions such as lstm_cell_2_layer_call_fn, lstm_cell_2_layer_call_and_return_conditional_losses, lstm_cell_3_layer_call_fn, lstm_cell_3_layer_call_and_return_conditional_losses while saving (showing 4 of 4). These functions will not be directly callable after loading.\n"
          ]
        },
        {
          "output_type": "stream",
          "name": "stdout",
          "text": [
            "\b\b\b\b\b\b\b\b\b\b\b\b\b\b\b\b\b\b\b\b\b\b\b\b\b\b\b\b\b\b\b\b\b\b\b\b\b\b\b\b\b\b\b\b\b\b\b\b\b\b\b\b\b\b\b\b\b\b\b\b\b\b\b\b\b\b\b\b\b\b\b\b\b\b\b\b\b\b\b\b\b\b\b\b\b\b\b\b\r15625/15625 [==============================] - 133s 8ms/step - loss: 4.2042 - accuracy: 0.2259\n",
            "Epoch 104/150\n",
            "15621/15625 [============================>.] - ETA: 0s - loss: 4.2066 - accuracy: 0.2255\n",
            "Epoch 104: loss did not improve from 4.20423\n",
            "15625/15625 [==============================] - 122s 8ms/step - loss: 4.2067 - accuracy: 0.2255\n",
            "Epoch 105/150\n",
            "15625/15625 [==============================] - ETA: 0s - loss: 4.2069 - accuracy: 0.2259\n",
            "Epoch 105: loss did not improve from 4.20423\n",
            "15625/15625 [==============================] - 122s 8ms/step - loss: 4.2069 - accuracy: 0.2259\n",
            "Epoch 106/150\n",
            "15619/15625 [============================>.] - ETA: 0s - loss: 4.2102 - accuracy: 0.2254\n",
            "Epoch 106: loss did not improve from 4.20423\n",
            "15625/15625 [==============================] - 122s 8ms/step - loss: 4.2102 - accuracy: 0.2254\n",
            "Epoch 107/150\n",
            "15621/15625 [============================>.] - ETA: 0s - loss: 4.2082 - accuracy: 0.2262\n",
            "Epoch 107: loss did not improve from 4.20423\n",
            "15625/15625 [==============================] - 122s 8ms/step - loss: 4.2080 - accuracy: 0.2262\n",
            "Epoch 108/150\n",
            "15622/15625 [============================>.] - ETA: 0s - loss: 4.2034 - accuracy: 0.2259\n",
            "Epoch 108: loss improved from 4.20423 to 4.20342, saving model to /content/drive/MyDrive/Deep Learning/task3/checkpoints/task3_checkpoints.0000108\n"
          ]
        },
        {
          "output_type": "stream",
          "name": "stderr",
          "text": [
            "WARNING:absl:Found untraced functions such as lstm_cell_2_layer_call_fn, lstm_cell_2_layer_call_and_return_conditional_losses, lstm_cell_3_layer_call_fn, lstm_cell_3_layer_call_and_return_conditional_losses while saving (showing 4 of 4). These functions will not be directly callable after loading.\n"
          ]
        },
        {
          "output_type": "stream",
          "name": "stdout",
          "text": [
            "\b\b\b\b\b\b\b\b\b\b\b\b\b\b\b\b\b\b\b\b\b\b\b\b\b\b\b\b\b\b\b\b\b\b\b\b\b\b\b\b\b\b\b\b\b\b\b\b\b\b\b\b\b\b\b\b\b\b\b\b\b\b\b\b\b\b\b\b\b\b\b\b\b\b\b\b\b\b\b\b\b\b\b\b\b\b\b\b\r15625/15625 [==============================] - 130s 8ms/step - loss: 4.2034 - accuracy: 0.2259\n",
            "Epoch 109/150\n",
            "15625/15625 [==============================] - ETA: 0s - loss: 4.2037 - accuracy: 0.2264\n",
            "Epoch 109: loss did not improve from 4.20342\n",
            "15625/15625 [==============================] - 122s 8ms/step - loss: 4.2037 - accuracy: 0.2264\n",
            "Epoch 110/150\n",
            "15623/15625 [============================>.] - ETA: 0s - loss: 4.1984 - accuracy: 0.2259\n",
            "Epoch 110: loss improved from 4.20342 to 4.19850, saving model to /content/drive/MyDrive/Deep Learning/task3/checkpoints/task3_checkpoints.0000110\n"
          ]
        },
        {
          "output_type": "stream",
          "name": "stderr",
          "text": [
            "WARNING:absl:Found untraced functions such as lstm_cell_2_layer_call_fn, lstm_cell_2_layer_call_and_return_conditional_losses, lstm_cell_3_layer_call_fn, lstm_cell_3_layer_call_and_return_conditional_losses while saving (showing 4 of 4). These functions will not be directly callable after loading.\n"
          ]
        },
        {
          "output_type": "stream",
          "name": "stdout",
          "text": [
            "\b\b\b\b\b\b\b\b\b\b\b\b\b\b\b\b\b\b\b\b\b\b\b\b\b\b\b\b\b\b\b\b\b\b\b\b\b\b\b\b\b\b\b\b\b\b\b\b\b\b\b\b\b\b\b\b\b\b\b\b\b\b\b\b\b\b\b\b\b\b\b\b\b\b\b\b\b\b\b\b\b\b\b\b\b\b\b\b\r15625/15625 [==============================] - 133s 8ms/step - loss: 4.1985 - accuracy: 0.2259\n",
            "Epoch 111/150\n",
            "15620/15625 [============================>.] - ETA: 0s - loss: 4.2007 - accuracy: 0.2269\n",
            "Epoch 111: loss did not improve from 4.19850\n",
            "15625/15625 [==============================] - 121s 8ms/step - loss: 4.2007 - accuracy: 0.2269\n",
            "Epoch 112/150\n",
            "15622/15625 [============================>.] - ETA: 0s - loss: 4.1994 - accuracy: 0.2265\n",
            "Epoch 112: loss did not improve from 4.19850\n",
            "15625/15625 [==============================] - 121s 8ms/step - loss: 4.1993 - accuracy: 0.2265\n",
            "Epoch 113/150\n",
            "15620/15625 [============================>.] - ETA: 0s - loss: 4.2017 - accuracy: 0.2265\n",
            "Epoch 113: loss did not improve from 4.19850\n",
            "15625/15625 [==============================] - 121s 8ms/step - loss: 4.2016 - accuracy: 0.2265\n",
            "Epoch 114/150\n",
            "15619/15625 [============================>.] - ETA: 0s - loss: 4.2016 - accuracy: 0.2266\n",
            "Epoch 114: loss did not improve from 4.19850\n",
            "15625/15625 [==============================] - 121s 8ms/step - loss: 4.2016 - accuracy: 0.2266\n",
            "Epoch 115/150\n",
            "15624/15625 [============================>.] - ETA: 0s - loss: 4.1997 - accuracy: 0.2273\n",
            "Epoch 115: loss did not improve from 4.19850\n",
            "15625/15625 [==============================] - 122s 8ms/step - loss: 4.1997 - accuracy: 0.2272\n",
            "Epoch 116/150\n",
            "15625/15625 [==============================] - ETA: 0s - loss: 4.2015 - accuracy: 0.2271\n",
            "Epoch 116: loss did not improve from 4.19850\n",
            "15625/15625 [==============================] - 122s 8ms/step - loss: 4.2015 - accuracy: 0.2271\n",
            "Epoch 117/150\n",
            "15620/15625 [============================>.] - ETA: 0s - loss: 4.2018 - accuracy: 0.2261\n",
            "Epoch 117: loss did not improve from 4.19850\n",
            "15625/15625 [==============================] - 122s 8ms/step - loss: 4.2018 - accuracy: 0.2261\n",
            "Epoch 118/150\n",
            "15625/15625 [==============================] - ETA: 0s - loss: 4.1988 - accuracy: 0.2269\n",
            "Epoch 118: loss did not improve from 4.19850\n",
            "15625/15625 [==============================] - 122s 8ms/step - loss: 4.1988 - accuracy: 0.2269\n",
            "Epoch 119/150\n",
            "15619/15625 [============================>.] - ETA: 0s - loss: 4.2017 - accuracy: 0.2271\n",
            "Epoch 119: loss did not improve from 4.19850\n",
            "15625/15625 [==============================] - 122s 8ms/step - loss: 4.2017 - accuracy: 0.2271\n",
            "Epoch 120/150\n",
            "15620/15625 [============================>.] - ETA: 0s - loss: 4.2062 - accuracy: 0.2266\n",
            "Epoch 120: loss did not improve from 4.19850\n",
            "15625/15625 [==============================] - 121s 8ms/step - loss: 4.2064 - accuracy: 0.2266\n"
          ]
        },
        {
          "output_type": "execute_result",
          "data": {
            "text/plain": [
              "<keras.callbacks.History at 0x7f01500c32b0>"
            ]
          },
          "metadata": {},
          "execution_count": 34
        }
      ]
    },
    {
      "cell_type": "markdown",
      "source": [
        "The loss did not imrpove after 110 epochs where the training is terminated as the patience set in early stopping is set to 0"
      ],
      "metadata": {
        "id": "cYJAM9-OF0nD"
      }
    },
    {
      "cell_type": "code",
      "source": [
        "#model loaded from the previous training. Training is resumed \n",
        "model = load_model('/content/drive/MyDrive/Deep Learning/task3/model_weights.h5')\n",
        "# Load the checkpoints\n",
        "weight_file = \"/content/drive/MyDrive/Deep Learning/task3/checkpoints/task3_checkpoints.0000110\"\n",
        "model.load_weights(weight_file).expect_partial()"
      ],
      "metadata": {
        "id": "Cb97_zemG09b"
      },
      "execution_count": 47,
      "outputs": []
    },
    {
      "cell_type": "code",
      "execution_count": 40,
      "metadata": {
        "id": "Pci_z-oE0oKc"
      },
      "outputs": [],
      "source": [
        "# function to generate text when input text and number of words to be generated are given. The text is preprocessed. \n",
        "def text_generator(model, tokenizer, seq_len, feature_text, num_words):\n",
        "  text = []\n",
        "  for i in range(num_words):\n",
        "    token = tokenizer.texts_to_sequences([feature_text])[0]\n",
        "    token = pad_sequences([token], maxlen = seq_len, truncating='pre')\n",
        "    # y_pred = model.predict_classes(token)\n",
        "    y_pred = model.predict(token) \n",
        "    y_pred = np.argmax(y_pred, axis=1)\n",
        "\n",
        "    pred_word = ''\n",
        "    for word, idx in tokenizer.word_index.items():\n",
        "      if idx == y_pred:\n",
        "        pred_word = word\n",
        "        break\n",
        "    feature_text += \" \"+ pred_word\n",
        "    text.append(pred_word)\n",
        "\n",
        "  return \" \".join(text)"
      ]
    },
    {
      "cell_type": "code",
      "source": [
        "while True:\n",
        "    text = input('Enter your line: ')\n",
        "    if text.lower() == 'q':\n",
        "        print('Session terminated...')\n",
        "        break\n",
        "\n",
        "    num_of_words = int(input('Enter the number of words to generate: '))\n",
        "\n",
        "    try:\n",
        "        print(text)\n",
        "\n",
        "        next_sentences = text_generator(model, tokenizer, X.shape[1], text, num_of_words)\n",
        "        print(\"The next sentences are:\", next_sentences)\n",
        "        print(\"Enter q to quit\")\n",
        "\n",
        "    except Exception as e:\n",
        "        print('Error occurred:', e)\n",
        "        continue\n"
      ],
      "metadata": {
        "colab": {
          "base_uri": "https://localhost:8080/"
        },
        "id": "MUyZK0poIndh",
        "outputId": "09e65723-9c97-479d-a987-3603659ffd34"
      },
      "execution_count": 46,
      "outputs": [
        {
          "output_type": "stream",
          "name": "stdout",
          "text": [
            "Enter your line: sea monsters are coming to get us and we have to get back to the shore as soon as possible\n",
            "Enter the number of words to generate: 50\n",
            "sea monsters are coming to get us and we have to get back to the shore as soon as possible\n",
            "1/1 [==============================] - 0s 30ms/step\n",
            "1/1 [==============================] - 0s 28ms/step\n",
            "1/1 [==============================] - 0s 27ms/step\n",
            "1/1 [==============================] - 0s 28ms/step\n",
            "1/1 [==============================] - 0s 29ms/step\n",
            "1/1 [==============================] - 0s 31ms/step\n",
            "1/1 [==============================] - 0s 30ms/step\n",
            "1/1 [==============================] - 0s 34ms/step\n",
            "1/1 [==============================] - 0s 30ms/step\n",
            "1/1 [==============================] - 0s 28ms/step\n",
            "1/1 [==============================] - 0s 28ms/step\n",
            "1/1 [==============================] - 0s 48ms/step\n",
            "1/1 [==============================] - 0s 54ms/step\n",
            "1/1 [==============================] - 0s 42ms/step\n",
            "1/1 [==============================] - 0s 64ms/step\n",
            "1/1 [==============================] - 0s 42ms/step\n",
            "1/1 [==============================] - 0s 46ms/step\n",
            "1/1 [==============================] - 0s 39ms/step\n",
            "1/1 [==============================] - 0s 40ms/step\n",
            "1/1 [==============================] - 0s 40ms/step\n",
            "1/1 [==============================] - 0s 41ms/step\n",
            "1/1 [==============================] - 0s 44ms/step\n",
            "1/1 [==============================] - 0s 42ms/step\n",
            "1/1 [==============================] - 0s 43ms/step\n",
            "1/1 [==============================] - 0s 45ms/step\n",
            "1/1 [==============================] - 0s 43ms/step\n",
            "1/1 [==============================] - 0s 46ms/step\n",
            "1/1 [==============================] - 0s 44ms/step\n",
            "1/1 [==============================] - 0s 41ms/step\n",
            "1/1 [==============================] - 0s 43ms/step\n",
            "1/1 [==============================] - 0s 47ms/step\n",
            "1/1 [==============================] - 0s 59ms/step\n",
            "1/1 [==============================] - 0s 51ms/step\n",
            "1/1 [==============================] - 0s 44ms/step\n",
            "1/1 [==============================] - 0s 62ms/step\n",
            "1/1 [==============================] - 0s 45ms/step\n",
            "1/1 [==============================] - 0s 49ms/step\n",
            "1/1 [==============================] - 0s 40ms/step\n",
            "1/1 [==============================] - 0s 41ms/step\n",
            "1/1 [==============================] - 0s 44ms/step\n",
            "1/1 [==============================] - 0s 40ms/step\n",
            "1/1 [==============================] - 0s 28ms/step\n",
            "1/1 [==============================] - 0s 31ms/step\n",
            "1/1 [==============================] - 0s 46ms/step\n",
            "1/1 [==============================] - 0s 29ms/step\n",
            "1/1 [==============================] - 0s 28ms/step\n",
            "1/1 [==============================] - 0s 32ms/step\n",
            "1/1 [==============================] - 0s 29ms/step\n",
            "1/1 [==============================] - 0s 28ms/step\n",
            "1/1 [==============================] - 0s 36ms/step\n",
            "The next sentences are: astronomers to allow nine down in the sun whose tongue is written in the cells the captain is the same thing the chief scientist came together marin had grown forever weapons is hardly the final landing the golden section says appeared for the extreme stage and successful supply in the\n",
            "Enter q to quit\n",
            "Enter your line: q\n",
            "Session terminated...\n"
          ]
        }
      ]
    },
    {
      "cell_type": "markdown",
      "source": [],
      "metadata": {
        "id": "3XiQWy-OSLsm"
      }
    }
  ],
  "metadata": {
    "colab": {
      "provenance": []
    },
    "gpuClass": "premium",
    "kernelspec": {
      "display_name": "Python 3 (ipykernel)",
      "language": "python",
      "name": "python3"
    },
    "language_info": {
      "codemirror_mode": {
        "name": "ipython",
        "version": 3
      },
      "file_extension": ".py",
      "mimetype": "text/x-python",
      "name": "python",
      "nbconvert_exporter": "python",
      "pygments_lexer": "ipython3",
      "version": "3.10.9"
    }
  },
  "nbformat": 4,
  "nbformat_minor": 0
}